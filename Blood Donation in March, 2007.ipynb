{
 "cells": [
  {
   "cell_type": "markdown",
   "id": "461087cb",
   "metadata": {},
   "source": [
    "<font size = \"+3\"><strong>Blood Donation</strong></font>"
   ]
  },
  {
   "cell_type": "markdown",
   "id": "16435f05",
   "metadata": {},
   "source": [
    "<font size = \"+1\"><strong>Find out if a donor will give blood in March</strong></font>"
   ]
  },
  {
   "cell_type": "markdown",
   "id": "1d85f9d8",
   "metadata": {},
   "source": [
    "<font face = \"Verdana\">\n",
    "<p> A healthy blood is a real asset to blood tranfusion centers. One of the most important goals of blood transfusion centers is to get healthy blood that is collected from voluntary blood donors who can donate healthy blood.\n",
    "<p>There are several reasons individuals donate blood, and these reasons vary among individuals. Some of these reasons include:\n",
    "\n",
    "<ul>\n",
    "<li>Donation in case of emergencies</li>\n",
    "<li>Donation as an act of charity</li>\n",
    "<li>Donation to relatives only</li>\n",
    "<li>Donation to relatives only</li>\n",
    "</ul>\n",
    "\n",
    "<p>In this project, we'll use a classification maching learning model to find out if a donor will give make another blood donation in March, and we'll also find out the important factors that can hinder donation."
   ]
  },
  {
   "cell_type": "markdown",
   "id": "5ff3d629",
   "metadata": {},
   "source": [
    "# Prepare Data"
   ]
  },
  {
   "cell_type": "markdown",
   "id": "60652768",
   "metadata": {},
   "source": [
    "## Import"
   ]
  },
  {
   "cell_type": "markdown",
   "id": "4ebd5afa",
   "metadata": {},
   "source": [
    "**Task: Import all necessary libraries** "
   ]
  },
  {
   "cell_type": "code",
   "execution_count": 1,
   "id": "8f43ed36",
   "metadata": {},
   "outputs": [],
   "source": [
    "%load_ext autoreload"
   ]
  },
  {
   "cell_type": "code",
   "execution_count": 2,
   "id": "4ff2bead",
   "metadata": {},
   "outputs": [],
   "source": [
    "import pandas as pd\n",
    "import seaborn as sns\n",
    "import matplotlib.pyplot as plt\n",
    "from sklearn.tree import DecisionTreeClassifier\n",
    "from sklearn.ensemble import RandomForestClassifier, GradientBoostingClassifier\n",
    "from imblearn.over_sampling import RandomOverSampler\n",
    "from imblearn.under_sampling import RandomUnderSampler\n",
    "from sklearn.model_selection import train_test_split, GridSearchCV, cross_val_score\n",
    "from sklearn.metrics import ConfusionMatrixDisplay, classification_report, confusion_matrix\n",
    "\n",
    "import plotly.express as px\n",
    "import plotly.graph_objects as go\n",
    "\n",
    "import ipywidgets as widgets\n",
    "from ipywidgets import interact\n",
    "\n",
    "import dash_bootstrap_components as dbc\n",
    "from jupyter_dash import JupyterDash\n",
    "import dash_daq as daq\n",
    "from dash import html, dcc, Output, Input, dash\n",
    "\n",
    "# JupyterDash.infer_jupyter_proxy_config()"
   ]
  },
  {
   "cell_type": "markdown",
   "id": "4c90a448",
   "metadata": {},
   "source": [
    "**Task: Create a wrangle function to clean the dataset** "
   ]
  },
  {
   "cell_type": "code",
   "execution_count": 3,
   "id": "589d3a87",
   "metadata": {},
   "outputs": [
    {
     "data": {
      "text/html": [
       "<div>\n",
       "<style scoped>\n",
       "    .dataframe tbody tr th:only-of-type {\n",
       "        vertical-align: middle;\n",
       "    }\n",
       "\n",
       "    .dataframe tbody tr th {\n",
       "        vertical-align: top;\n",
       "    }\n",
       "\n",
       "    .dataframe thead th {\n",
       "        text-align: right;\n",
       "    }\n",
       "</style>\n",
       "<table border=\"1\" class=\"dataframe\">\n",
       "  <thead>\n",
       "    <tr style=\"text-align: right;\">\n",
       "      <th></th>\n",
       "      <th>months_since_last_donation</th>\n",
       "      <th>volume_donated</th>\n",
       "      <th>months_since_first_donation</th>\n",
       "      <th>class</th>\n",
       "    </tr>\n",
       "  </thead>\n",
       "  <tbody>\n",
       "    <tr>\n",
       "      <th>0</th>\n",
       "      <td>4</td>\n",
       "      <td>1000</td>\n",
       "      <td>4</td>\n",
       "      <td>0</td>\n",
       "    </tr>\n",
       "    <tr>\n",
       "      <th>1</th>\n",
       "      <td>2</td>\n",
       "      <td>1750</td>\n",
       "      <td>14</td>\n",
       "      <td>1</td>\n",
       "    </tr>\n",
       "    <tr>\n",
       "      <th>2</th>\n",
       "      <td>0</td>\n",
       "      <td>750</td>\n",
       "      <td>4</td>\n",
       "      <td>0</td>\n",
       "    </tr>\n",
       "    <tr>\n",
       "      <th>3</th>\n",
       "      <td>2</td>\n",
       "      <td>1500</td>\n",
       "      <td>15</td>\n",
       "      <td>1</td>\n",
       "    </tr>\n",
       "    <tr>\n",
       "      <th>4</th>\n",
       "      <td>2</td>\n",
       "      <td>1250</td>\n",
       "      <td>11</td>\n",
       "      <td>1</td>\n",
       "    </tr>\n",
       "  </tbody>\n",
       "</table>\n",
       "</div>"
      ],
      "text/plain": [
       "   months_since_last_donation  volume_donated  months_since_first_donation  \\\n",
       "0                           4            1000                            4   \n",
       "1                           2            1750                           14   \n",
       "2                           0             750                            4   \n",
       "3                           2            1500                           15   \n",
       "4                           2            1250                           11   \n",
       "\n",
       "   class  \n",
       "0      0  \n",
       "1      1  \n",
       "2      0  \n",
       "3      1  \n",
       "4      1  "
      ]
     },
     "execution_count": 3,
     "metadata": {},
     "output_type": "execute_result"
    }
   ],
   "source": [
    "def wrangle(filepath):\n",
    "    #Read dataframe\n",
    "    df = pd.read_csv(filepath)\n",
    "    \n",
    "    #Rename columns\n",
    "    df.columns = ['months_since_last_donation','num_donations','volume_donated','months_since_first_donation', 'class']\n",
    "    \n",
    "    #Remove outliers in volumes donated\n",
    "    low, high = df[\"volume_donated\"].quantile([0.25, 0.75])\n",
    "    df = df[df[\"volume_donated\"].between(low, high)]\n",
    "    \n",
    "    #Drop one of the correlated features\n",
    "    df.drop(columns = [\"num_donations\"], inplace = True)\n",
    "    \n",
    "    df = df.reset_index()\n",
    "    \n",
    "    df.drop(columns = [\"index\"], inplace = True)\n",
    "    \n",
    "    return df\n",
    "\n",
    "df = wrangle(\"transfusion.data.csv\")\n",
    "df.head()"
   ]
  },
  {
   "cell_type": "markdown",
   "id": "dfad075f",
   "metadata": {},
   "source": [
    "**Task: Inspect the info of the dataframe `df`**"
   ]
  },
  {
   "cell_type": "code",
   "execution_count": 4,
   "id": "1070fe2c",
   "metadata": {},
   "outputs": [
    {
     "name": "stdout",
     "output_type": "stream",
     "text": [
      "<class 'pandas.core.frame.DataFrame'>\n",
      "RangeIndex: 418 entries, 0 to 417\n",
      "Data columns (total 4 columns):\n",
      " #   Column                       Non-Null Count  Dtype\n",
      "---  ------                       --------------  -----\n",
      " 0   months_since_last_donation   418 non-null    int64\n",
      " 1   volume_donated               418 non-null    int64\n",
      " 2   months_since_first_donation  418 non-null    int64\n",
      " 3   class                        418 non-null    int64\n",
      "dtypes: int64(4)\n",
      "memory usage: 13.2 KB\n"
     ]
    }
   ],
   "source": [
    "df.info()"
   ]
  },
  {
   "cell_type": "markdown",
   "id": "c0e4041a",
   "metadata": {},
   "source": [
    "## Explore"
   ]
  },
  {
   "cell_type": "markdown",
   "id": "7b4fe44e",
   "metadata": {},
   "source": [
    "**Task: Check the presence of outliers in the column `volume_donated`**"
   ]
  },
  {
   "cell_type": "code",
   "execution_count": 5,
   "id": "b697aedf",
   "metadata": {},
   "outputs": [
    {
     "data": {
      "image/png": "[encoded data removed]",
      "text/plain": [
       "<Figure size 432x288 with 1 Axes>"
      ]
     },
     "metadata": {
      "needs_background": "light"
     },
     "output_type": "display_data"
    }
   ],
   "source": [
    "df[\"volume_donated\"].plot(kind = \"box\", vert = False)\n",
    "plt.title(\"Checking outliers\")\n",
    "plt.xlabel(\"Amount donated\");"
   ]
  },
  {
   "cell_type": "markdown",
   "id": "0b56a213",
   "metadata": {},
   "source": [
    "**Task: Check the presence of outliers in the column `months_since_first_donation`**"
   ]
  },
  {
   "cell_type": "code",
   "execution_count": 6,
   "id": "4cf93ee1",
   "metadata": {},
   "outputs": [
    {
     "data": {
      "image/png": "[encoded data removed]",
      "text/plain": [
       "<Figure size 432x288 with 1 Axes>"
      ]
     },
     "metadata": {
      "needs_background": "light"
     },
     "output_type": "display_data"
    }
   ],
   "source": [
    "df[\"months_since_first_donation\"].hist()\n",
    "plt.xlabel(\"Months\")\n",
    "plt.ylabel(\"Frequency\")\n",
    "plt.title(\"Distribution of first donation (Months)\");"
   ]
  },
  {
   "cell_type": "markdown",
   "id": "057e15e6",
   "metadata": {},
   "source": [
    "**Task: Calculate the average blood donated** "
   ]
  },
  {
   "cell_type": "code",
   "execution_count": 7,
   "id": "8c406b41",
   "metadata": {},
   "outputs": [
    {
     "name": "stdout",
     "output_type": "stream",
     "text": [
      "Average blood donated:  990.43\n"
     ]
    }
   ],
   "source": [
    "print(\"Average blood donated: \",round(df[\"volume_donated\"].mean(), 2))"
   ]
  },
  {
   "cell_type": "markdown",
   "id": "72e70785",
   "metadata": {},
   "source": [
    "**Task: Plot a correlation heatmap of the numerical features to check for multicollinearity issues** "
   ]
  },
  {
   "cell_type": "code",
   "execution_count": 8,
   "id": "5964d322",
   "metadata": {},
   "outputs": [
    {
     "data": {
      "text/html": [
       "<div>\n",
       "<style scoped>\n",
       "    .dataframe tbody tr th:only-of-type {\n",
       "        vertical-align: middle;\n",
       "    }\n",
       "\n",
       "    .dataframe tbody tr th {\n",
       "        vertical-align: top;\n",
       "    }\n",
       "\n",
       "    .dataframe thead th {\n",
       "        text-align: right;\n",
       "    }\n",
       "</style>\n",
       "<table border=\"1\" class=\"dataframe\">\n",
       "  <thead>\n",
       "    <tr style=\"text-align: right;\">\n",
       "      <th></th>\n",
       "      <th>months_since_last_donation</th>\n",
       "      <th>volume_donated</th>\n",
       "      <th>months_since_first_donation</th>\n",
       "    </tr>\n",
       "  </thead>\n",
       "  <tbody>\n",
       "    <tr>\n",
       "      <th>months_since_last_donation</th>\n",
       "      <td>1.000000</td>\n",
       "      <td>-0.129668</td>\n",
       "      <td>0.318700</td>\n",
       "    </tr>\n",
       "    <tr>\n",
       "      <th>volume_donated</th>\n",
       "      <td>-0.129668</td>\n",
       "      <td>1.000000</td>\n",
       "      <td>0.388263</td>\n",
       "    </tr>\n",
       "    <tr>\n",
       "      <th>months_since_first_donation</th>\n",
       "      <td>0.318700</td>\n",
       "      <td>0.388263</td>\n",
       "      <td>1.000000</td>\n",
       "    </tr>\n",
       "  </tbody>\n",
       "</table>\n",
       "</div>"
      ],
      "text/plain": [
       "                             months_since_last_donation  volume_donated  \\\n",
       "months_since_last_donation                     1.000000       -0.129668   \n",
       "volume_donated                                -0.129668        1.000000   \n",
       "months_since_first_donation                    0.318700        0.388263   \n",
       "\n",
       "                             months_since_first_donation  \n",
       "months_since_last_donation                      0.318700  \n",
       "volume_donated                                  0.388263  \n",
       "months_since_first_donation                     1.000000  "
      ]
     },
     "execution_count": 8,
     "metadata": {},
     "output_type": "execute_result"
    }
   ],
   "source": [
    "corr = df.drop(columns = [\"class\"]).corr()\n",
    "corr"
   ]
  },
  {
   "cell_type": "code",
   "execution_count": 9,
   "id": "d7778386",
   "metadata": {},
   "outputs": [
    {
     "data": {
      "image/png": "[encoded data removed]",
      "text/plain": [
       "<Figure size 432x288 with 2 Axes>"
      ]
     },
     "metadata": {
      "needs_background": "light"
     },
     "output_type": "display_data"
    }
   ],
   "source": [
    "sns.heatmap(corr);"
   ]
  },
  {
   "cell_type": "markdown",
   "id": "a51080da",
   "metadata": {},
   "source": [
    "**Task 6: Create a boxplot to display the distributions of the `\"volume_donated\"` column for both groups in the `\"class\"` column.**"
   ]
  },
  {
   "cell_type": "code",
   "execution_count": 10,
   "id": "f099cffd",
   "metadata": {},
   "outputs": [
    {
     "data": {
      "image/png": "[encoded data removed]",
      "text/plain": [
       "<Figure size 432x288 with 1 Axes>"
      ]
     },
     "metadata": {
      "needs_background": "light"
     },
     "output_type": "display_data"
    }
   ],
   "source": [
    "sns.boxplot(data = df, x = \"class\", y = \"volume_donated\")\n",
    "plt.xlabel(\"Class\")\n",
    "plt.ylabel(\"Volume donated [cc]\")\n",
    "plt.title(\"Distribution of volume [cc] by class\");"
   ]
  },
  {
   "cell_type": "markdown",
   "id": "a617c238",
   "metadata": {},
   "source": [
    "***Comment:*** The boxplot shows that the median amount of blood donated by people that will not donate in March is 500cc-1200cc, while the median amount of blood donated by people that will not donate in March is 780cc-1450cc"
   ]
  },
  {
   "cell_type": "markdown",
   "id": "258ddd44",
   "metadata": {},
   "source": [
    "**Task: Check the proportion of donors that return and donors that do not**"
   ]
  },
  {
   "cell_type": "code",
   "execution_count": 11,
   "id": "68891753",
   "metadata": {},
   "outputs": [
    {
     "name": "stdout",
     "output_type": "stream",
     "text": [
      "Proportion that do not return:  0.77\n",
      "Proportion that return:  0.23\n"
     ]
    }
   ],
   "source": [
    "major, minor = df[\"class\"].value_counts(normalize = True)\n",
    "print(\"Proportion that do not return: \", round(major,2))\n",
    "print(\"Proportion that return: \", round(minor,2))"
   ]
  },
  {
   "cell_type": "markdown",
   "id": "453ec425",
   "metadata": {},
   "source": [
    "**Task: Visualize the above proportions**"
   ]
  },
  {
   "cell_type": "code",
   "execution_count": 12,
   "id": "1b341d3b",
   "metadata": {},
   "outputs": [
    {
     "data": {
      "image/png": "[encoded data removed]",
      "text/plain": [
       "<Figure size 432x288 with 1 Axes>"
      ]
     },
     "metadata": {
      "needs_background": "light"
     },
     "output_type": "display_data"
    }
   ],
   "source": [
    "df[\"class\"].value_counts(normalize = True).plot(kind = \"bar\")\n",
    "plt.xlabel(\"Class\")\n",
    "plt.ylabel(\"Relative frequency\")\n",
    "plt.title(\"Class balance [proportion (%)]\");"
   ]
  },
  {
   "cell_type": "markdown",
   "id": "006a97a5",
   "metadata": {},
   "source": [
    "## Split"
   ]
  },
  {
   "cell_type": "markdown",
   "id": "90c32b51",
   "metadata": {},
   "source": [
    "**Task: Create the feature matrix `X` and target vector `y`. The target in this case is `\"class\"`.**"
   ]
  },
  {
   "cell_type": "code",
   "execution_count": 13,
   "id": "3e7c631a",
   "metadata": {},
   "outputs": [],
   "source": [
    "target = \"class\"\n",
    "y = df[target]\n",
    "X = df.drop(columns = target)"
   ]
  },
  {
   "cell_type": "markdown",
   "id": "032b3d3e",
   "metadata": {},
   "source": [
    "**Task: Create a train_test_split to split the training and test data**"
   ]
  },
  {
   "cell_type": "code",
   "execution_count": 14,
   "id": "699810f7",
   "metadata": {},
   "outputs": [],
   "source": [
    "X_train, X_test, y_train, y_test = train_test_split(\n",
    "    X, y, test_size = 0.2, random_state = 32\n",
    ")"
   ]
  },
  {
   "cell_type": "markdown",
   "id": "0019b281",
   "metadata": {},
   "source": [
    "# Build Model"
   ]
  },
  {
   "cell_type": "markdown",
   "id": "ab61ae9b",
   "metadata": {},
   "source": [
    "## Baseline"
   ]
  },
  {
   "cell_type": "markdown",
   "id": "4c646afc",
   "metadata": {},
   "source": [
    "**Task: Calculate the baseline accurracy score**"
   ]
  },
  {
   "cell_type": "code",
   "execution_count": 15,
   "id": "e6ab9537",
   "metadata": {},
   "outputs": [
    {
     "name": "stdout",
     "output_type": "stream",
     "text": [
      "Baseline Accuracy score:  0.76\n"
     ]
    }
   ],
   "source": [
    "acc_score = round(y_train.value_counts(normalize = True).max(), 2)\n",
    "print(\"Baseline Accuracy score: \", round(acc_score, 2))"
   ]
  },
  {
   "cell_type": "markdown",
   "id": "4936a835",
   "metadata": {},
   "source": [
    "**Task: Resample the dataset uisng random samplers**"
   ]
  },
  {
   "cell_type": "code",
   "execution_count": 16,
   "id": "69f221e3",
   "metadata": {},
   "outputs": [],
   "source": [
    "over_sampler = RandomOverSampler(random_state = 32)\n",
    "X_train_over, y_train_over = over_sampler.fit_resample(X_train, y_train)\n",
    "under_sampler = RandomUnderSampler(random_state = 32)\n",
    "X_train_under, y_train_under = under_sampler.fit_resample(X_train, y_train)"
   ]
  },
  {
   "cell_type": "markdown",
   "id": "bc8ca484",
   "metadata": {},
   "source": [
    "## Iterate & Evaluate"
   ]
  },
  {
   "cell_type": "markdown",
   "id": "df5f08a1",
   "metadata": {},
   "source": [
    "### Random Forest Classifier"
   ]
  },
  {
   "cell_type": "markdown",
   "id": "bcbeaf03",
   "metadata": {},
   "source": [
    "**Task: Instantiate and train three RandomForestClassifier models**"
   ]
  },
  {
   "cell_type": "code",
   "execution_count": 17,
   "id": "acbe7019",
   "metadata": {},
   "outputs": [
    {
     "data": {
      "text/plain": [
       "RandomForestClassifier(random_state=32)"
      ]
     },
     "execution_count": 17,
     "metadata": {},
     "output_type": "execute_result"
    }
   ],
   "source": [
    "model_over = RandomForestClassifier(random_state = 32)\n",
    "model_over.fit(X_train_over, y_train_over)\n",
    "model_under = RandomForestClassifier(random_state = 32)\n",
    "model_under.fit(X_train_under, y_train_under)\n",
    "model = RandomForestClassifier(random_state = 32)\n",
    "model.fit(X_train, y_train)\n"
   ]
  },
  {
   "cell_type": "markdown",
   "id": "e7e6cecc",
   "metadata": {},
   "source": [
    "**Task: Calculate the accurracy scores of the three models trained above**"
   ]
  },
  {
   "cell_type": "code",
   "execution_count": 18,
   "id": "10143b24",
   "metadata": {},
   "outputs": [
    {
     "name": "stdout",
     "output_type": "stream",
     "text": [
      "Train score: 0.92\n",
      "Test score: 0.63\n",
      "\n",
      "Train score: 0.71\n",
      "Test score: 0.5\n",
      "\n",
      "Train score: 0.94\n",
      "Test score: 0.68\n",
      "\n"
     ]
    }
   ],
   "source": [
    "for m in [model_over, model_under, model]:\n",
    "    print(f'Train score: {round(m.score(X_train, y_train), 2)}')\n",
    "    print(f'Test score: {round(m.score(X_test, y_test), 2)}\\n')"
   ]
  },
  {
   "cell_type": "markdown",
   "id": "80b0cc84",
   "metadata": {},
   "source": [
    "**Task: Instantiate a RandomForestClassifier model**"
   ]
  },
  {
   "cell_type": "code",
   "execution_count": 19,
   "id": "8cd5038a",
   "metadata": {},
   "outputs": [],
   "source": [
    "rand_clf = RandomForestClassifier(random_state = 32)"
   ]
  },
  {
   "cell_type": "markdown",
   "id": "f7f1de43",
   "metadata": {},
   "source": [
    "**Task: Calculate the Cross Validation scores of the best sample**"
   ]
  },
  {
   "cell_type": "code",
   "execution_count": 20,
   "id": "37a2fec3",
   "metadata": {},
   "outputs": [
    {
     "data": {
      "text/plain": [
       "array([0.71641791, 0.7761194 , 0.7761194 , 0.73134328, 0.62121212])"
      ]
     },
     "execution_count": 20,
     "metadata": {},
     "output_type": "execute_result"
    }
   ],
   "source": [
    "cv_score = cross_val_score(rand_clf, X_train, y_train, n_jobs = -1, cv = 5)\n",
    "cv_score"
   ]
  },
  {
   "cell_type": "markdown",
   "id": "d0f41914",
   "metadata": {},
   "source": [
    "**Task: Create a dictionary of parameters**"
   ]
  },
  {
   "cell_type": "code",
   "execution_count": 21,
   "id": "c15b4f2f",
   "metadata": {},
   "outputs": [
    {
     "data": {
      "text/plain": [
       "{'n_estimators': range(25, 101, 25), 'max_depth': range(10, 60, 10)}"
      ]
     },
     "execution_count": 21,
     "metadata": {},
     "output_type": "execute_result"
    }
   ],
   "source": [
    "params = {\n",
    "    \"n_estimators\" : range(25, 101, 25),\n",
    "    \"max_depth\" : range(10, 60, 10)\n",
    "}\n",
    "params"
   ]
  },
  {
   "cell_type": "markdown",
   "id": "26d53809",
   "metadata": {},
   "source": [
    "**Task: Tune the hyperparameters using a GridSearchCV**"
   ]
  },
  {
   "cell_type": "code",
   "execution_count": 22,
   "id": "7c01587e",
   "metadata": {},
   "outputs": [
    {
     "name": "stdout",
     "output_type": "stream",
     "text": [
      "Fitting 5 folds for each of 20 candidates, totalling 100 fits\n"
     ]
    },
    {
     "data": {
      "text/plain": [
       "GridSearchCV(cv=5, estimator=RandomForestClassifier(random_state=32), n_jobs=-1,\n",
       "             param_grid={'max_depth': range(10, 60, 10),\n",
       "                         'n_estimators': range(25, 101, 25)},\n",
       "             verbose=1)"
      ]
     },
     "execution_count": 22,
     "metadata": {},
     "output_type": "execute_result"
    }
   ],
   "source": [
    "rand_model = GridSearchCV(rand_clf, param_grid = params, n_jobs = -1, cv = 5, verbose = 1)\n",
    "rand_model.fit(X_train, y_train)"
   ]
  },
  {
   "cell_type": "markdown",
   "id": "11208396",
   "metadata": {},
   "source": [
    "**Task: Visualize the Confusion Matrix**"
   ]
  },
  {
   "cell_type": "code",
   "execution_count": 23,
   "id": "a7dab35b",
   "metadata": {},
   "outputs": [
    {
     "data": {
      "image/png": "[encoded data removed]",
      "text/plain": [
       "<Figure size 432x288 with 2 Axes>"
      ]
     },
     "metadata": {
      "needs_background": "light"
     },
     "output_type": "display_data"
    }
   ],
   "source": [
    "ConfusionMatrixDisplay.from_estimator(rand_model, X_test, y_test);"
   ]
  },
  {
   "cell_type": "markdown",
   "id": "aa267980",
   "metadata": {},
   "source": [
    "**Task: Print the classification report**"
   ]
  },
  {
   "cell_type": "code",
   "execution_count": 24,
   "id": "d377ef92",
   "metadata": {},
   "outputs": [
    {
     "name": "stdout",
     "output_type": "stream",
     "text": [
      "              precision    recall  f1-score   support\n",
      "\n",
      "           0       0.79      0.82      0.81        68\n",
      "           1       0.08      0.06      0.07        16\n",
      "\n",
      "    accuracy                           0.68        84\n",
      "   macro avg       0.43      0.44      0.44        84\n",
      "weighted avg       0.65      0.68      0.67        84\n",
      "\n"
     ]
    }
   ],
   "source": [
    "print(classification_report(y_test, rand_model.predict(X_test)))"
   ]
  },
  {
   "cell_type": "markdown",
   "id": "4af419ea",
   "metadata": {},
   "source": [
    "### Gradient Boosting Classifier"
   ]
  },
  {
   "cell_type": "markdown",
   "id": "d23547f8",
   "metadata": {},
   "source": [
    "**Task: Instantiate and train three GradientBoostingClassifier models**"
   ]
  },
  {
   "cell_type": "code",
   "execution_count": 25,
   "id": "63c91864",
   "metadata": {},
   "outputs": [
    {
     "data": {
      "text/plain": [
       "GradientBoostingClassifier()"
      ]
     },
     "execution_count": 25,
     "metadata": {},
     "output_type": "execute_result"
    }
   ],
   "source": [
    "model_over = GradientBoostingClassifier()\n",
    "model_over.fit(X_train_over, y_train_over)\n",
    "model_under = GradientBoostingClassifier()\n",
    "model_under.fit(X_train_under, y_train_under)\n",
    "model = GradientBoostingClassifier()\n",
    "model.fit(X_train, y_train)\n"
   ]
  },
  {
   "cell_type": "markdown",
   "id": "55fd5de7",
   "metadata": {},
   "source": [
    "**Task: Calculate the accurracy scores of the three models trained above**"
   ]
  },
  {
   "cell_type": "code",
   "execution_count": 26,
   "id": "0cd7fcc0",
   "metadata": {},
   "outputs": [
    {
     "name": "stdout",
     "output_type": "stream",
     "text": [
      "Train score: 0.84\n",
      "Test score: 0.58\n",
      "\n",
      "Train score: 0.73\n",
      "Test score: 0.5\n",
      "\n",
      "Train score: 0.86\n",
      "Test score: 0.69\n",
      "\n"
     ]
    }
   ],
   "source": [
    "for m in [model_over, model_under, model]:\n",
    "    print(f'Train score: {round(m.score(X_train, y_train), 2)}')\n",
    "    print(f'Test score: {round(m.score(X_test, y_test), 2)}\\n')"
   ]
  },
  {
   "cell_type": "markdown",
   "id": "a16659ec",
   "metadata": {},
   "source": [
    "**Task: Instantiate a GradientBoostingClassifier model**"
   ]
  },
  {
   "cell_type": "code",
   "execution_count": 27,
   "id": "c5ca7f4a",
   "metadata": {},
   "outputs": [],
   "source": [
    "grad_clf = GradientBoostingClassifier()"
   ]
  },
  {
   "cell_type": "markdown",
   "id": "542302af",
   "metadata": {},
   "source": [
    "**Task: Tune the hyperparameters using a GridSearchCV**"
   ]
  },
  {
   "cell_type": "code",
   "execution_count": 28,
   "id": "2d46adbc",
   "metadata": {},
   "outputs": [
    {
     "name": "stdout",
     "output_type": "stream",
     "text": [
      "Fitting 5 folds for each of 20 candidates, totalling 100 fits\n"
     ]
    },
    {
     "data": {
      "text/plain": [
       "GridSearchCV(cv=5, estimator=GradientBoostingClassifier(), n_jobs=-1,\n",
       "             param_grid={'max_depth': range(10, 60, 10),\n",
       "                         'n_estimators': range(25, 101, 25)},\n",
       "             verbose=1)"
      ]
     },
     "execution_count": 28,
     "metadata": {},
     "output_type": "execute_result"
    }
   ],
   "source": [
    "grad_model = GridSearchCV(grad_clf, param_grid = params, n_jobs = -1, cv = 5, verbose = 1)\n",
    "grad_model.fit(X_train, y_train)"
   ]
  },
  {
   "cell_type": "code",
   "execution_count": 29,
   "id": "0486bfda",
   "metadata": {},
   "outputs": [
    {
     "data": {
      "image/png": "[encoded data removed]",
      "text/plain": [
       "<Figure size 432x288 with 2 Axes>"
      ]
     },
     "metadata": {
      "needs_background": "light"
     },
     "output_type": "display_data"
    }
   ],
   "source": [
    "ConfusionMatrixDisplay.from_estimator(grad_model, X_test, y_test);"
   ]
  },
  {
   "cell_type": "code",
   "execution_count": 30,
   "id": "1856f2a4",
   "metadata": {},
   "outputs": [
    {
     "name": "stdout",
     "output_type": "stream",
     "text": [
      "              precision    recall  f1-score   support\n",
      "\n",
      "           0       0.78      0.78      0.78        68\n",
      "           1       0.06      0.06      0.06        16\n",
      "\n",
      "    accuracy                           0.64        84\n",
      "   macro avg       0.42      0.42      0.42        84\n",
      "weighted avg       0.64      0.64      0.64        84\n",
      "\n"
     ]
    }
   ],
   "source": [
    "print(classification_report(y_test, grad_model.predict(X_test)))"
   ]
  },
  {
   "cell_type": "markdown",
   "id": "fd920949",
   "metadata": {},
   "source": [
    "**Task: Generate the cross validation results of the best model**"
   ]
  },
  {
   "cell_type": "code",
   "execution_count": 31,
   "id": "f6cf0185",
   "metadata": {},
   "outputs": [
    {
     "data": {
      "text/html": [
       "<div>\n",
       "<style scoped>\n",
       "    .dataframe tbody tr th:only-of-type {\n",
       "        vertical-align: middle;\n",
       "    }\n",
       "\n",
       "    .dataframe tbody tr th {\n",
       "        vertical-align: top;\n",
       "    }\n",
       "\n",
       "    .dataframe thead th {\n",
       "        text-align: right;\n",
       "    }\n",
       "</style>\n",
       "<table border=\"1\" class=\"dataframe\">\n",
       "  <thead>\n",
       "    <tr style=\"text-align: right;\">\n",
       "      <th></th>\n",
       "      <th>mean_fit_time</th>\n",
       "      <th>std_fit_time</th>\n",
       "      <th>mean_score_time</th>\n",
       "      <th>std_score_time</th>\n",
       "      <th>param_max_depth</th>\n",
       "      <th>param_n_estimators</th>\n",
       "      <th>params</th>\n",
       "      <th>split0_test_score</th>\n",
       "      <th>split1_test_score</th>\n",
       "      <th>split2_test_score</th>\n",
       "      <th>split3_test_score</th>\n",
       "      <th>split4_test_score</th>\n",
       "      <th>mean_test_score</th>\n",
       "      <th>std_test_score</th>\n",
       "      <th>rank_test_score</th>\n",
       "    </tr>\n",
       "  </thead>\n",
       "  <tbody>\n",
       "    <tr>\n",
       "      <th>0</th>\n",
       "      <td>0.082637</td>\n",
       "      <td>0.012849</td>\n",
       "      <td>0.013243</td>\n",
       "      <td>0.012916</td>\n",
       "      <td>10</td>\n",
       "      <td>25</td>\n",
       "      <td>{'max_depth': 10, 'n_estimators': 25}</td>\n",
       "      <td>0.701493</td>\n",
       "      <td>0.746269</td>\n",
       "      <td>0.791045</td>\n",
       "      <td>0.701493</td>\n",
       "      <td>0.666667</td>\n",
       "      <td>0.721393</td>\n",
       "      <td>0.043028</td>\n",
       "      <td>19</td>\n",
       "    </tr>\n",
       "    <tr>\n",
       "      <th>1</th>\n",
       "      <td>0.151519</td>\n",
       "      <td>0.024281</td>\n",
       "      <td>0.018899</td>\n",
       "      <td>0.006177</td>\n",
       "      <td>10</td>\n",
       "      <td>50</td>\n",
       "      <td>{'max_depth': 10, 'n_estimators': 50}</td>\n",
       "      <td>0.716418</td>\n",
       "      <td>0.761194</td>\n",
       "      <td>0.776119</td>\n",
       "      <td>0.686567</td>\n",
       "      <td>0.681818</td>\n",
       "      <td>0.724423</td>\n",
       "      <td>0.038307</td>\n",
       "      <td>6</td>\n",
       "    </tr>\n",
       "    <tr>\n",
       "      <th>2</th>\n",
       "      <td>0.206529</td>\n",
       "      <td>0.003240</td>\n",
       "      <td>0.021873</td>\n",
       "      <td>0.007655</td>\n",
       "      <td>10</td>\n",
       "      <td>75</td>\n",
       "      <td>{'max_depth': 10, 'n_estimators': 75}</td>\n",
       "      <td>0.716418</td>\n",
       "      <td>0.761194</td>\n",
       "      <td>0.791045</td>\n",
       "      <td>0.716418</td>\n",
       "      <td>0.651515</td>\n",
       "      <td>0.727318</td>\n",
       "      <td>0.047313</td>\n",
       "      <td>5</td>\n",
       "    </tr>\n",
       "    <tr>\n",
       "      <th>3</th>\n",
       "      <td>0.286241</td>\n",
       "      <td>0.011803</td>\n",
       "      <td>0.023636</td>\n",
       "      <td>0.006892</td>\n",
       "      <td>10</td>\n",
       "      <td>100</td>\n",
       "      <td>{'max_depth': 10, 'n_estimators': 100}</td>\n",
       "      <td>0.716418</td>\n",
       "      <td>0.761194</td>\n",
       "      <td>0.776119</td>\n",
       "      <td>0.701493</td>\n",
       "      <td>0.636364</td>\n",
       "      <td>0.718318</td>\n",
       "      <td>0.049361</td>\n",
       "      <td>20</td>\n",
       "    </tr>\n",
       "    <tr>\n",
       "      <th>4</th>\n",
       "      <td>0.073213</td>\n",
       "      <td>0.012439</td>\n",
       "      <td>0.012499</td>\n",
       "      <td>0.006250</td>\n",
       "      <td>20</td>\n",
       "      <td>25</td>\n",
       "      <td>{'max_depth': 20, 'n_estimators': 25}</td>\n",
       "      <td>0.686567</td>\n",
       "      <td>0.746269</td>\n",
       "      <td>0.791045</td>\n",
       "      <td>0.731343</td>\n",
       "      <td>0.666667</td>\n",
       "      <td>0.724378</td>\n",
       "      <td>0.044119</td>\n",
       "      <td>7</td>\n",
       "    </tr>\n",
       "  </tbody>\n",
       "</table>\n",
       "</div>"
      ],
      "text/plain": [
       "   mean_fit_time  std_fit_time  mean_score_time  std_score_time  \\\n",
       "0       0.082637      0.012849         0.013243        0.012916   \n",
       "1       0.151519      0.024281         0.018899        0.006177   \n",
       "2       0.206529      0.003240         0.021873        0.007655   \n",
       "3       0.286241      0.011803         0.023636        0.006892   \n",
       "4       0.073213      0.012439         0.012499        0.006250   \n",
       "\n",
       "  param_max_depth param_n_estimators                                  params  \\\n",
       "0              10                 25   {'max_depth': 10, 'n_estimators': 25}   \n",
       "1              10                 50   {'max_depth': 10, 'n_estimators': 50}   \n",
       "2              10                 75   {'max_depth': 10, 'n_estimators': 75}   \n",
       "3              10                100  {'max_depth': 10, 'n_estimators': 100}   \n",
       "4              20                 25   {'max_depth': 20, 'n_estimators': 25}   \n",
       "\n",
       "   split0_test_score  split1_test_score  split2_test_score  split3_test_score  \\\n",
       "0           0.701493           0.746269           0.791045           0.701493   \n",
       "1           0.716418           0.761194           0.776119           0.686567   \n",
       "2           0.716418           0.761194           0.791045           0.716418   \n",
       "3           0.716418           0.761194           0.776119           0.701493   \n",
       "4           0.686567           0.746269           0.791045           0.731343   \n",
       "\n",
       "   split4_test_score  mean_test_score  std_test_score  rank_test_score  \n",
       "0           0.666667         0.721393        0.043028               19  \n",
       "1           0.681818         0.724423        0.038307                6  \n",
       "2           0.651515         0.727318        0.047313                5  \n",
       "3           0.636364         0.718318        0.049361               20  \n",
       "4           0.666667         0.724378        0.044119                7  "
      ]
     },
     "execution_count": 31,
     "metadata": {},
     "output_type": "execute_result"
    }
   ],
   "source": [
    "cv_result = pd.DataFrame(rand_model.cv_results_)\n",
    "cv_result.head()"
   ]
  },
  {
   "cell_type": "markdown",
   "id": "1bb6c269",
   "metadata": {},
   "source": [
    "**Task: Print the best estimator of the  model**"
   ]
  },
  {
   "cell_type": "code",
   "execution_count": 32,
   "id": "6d458cfa",
   "metadata": {},
   "outputs": [
    {
     "data": {
      "text/plain": [
       "RandomForestClassifier(max_depth=20, n_estimators=75, random_state=32)"
      ]
     },
     "execution_count": 32,
     "metadata": {},
     "output_type": "execute_result"
    }
   ],
   "source": [
    "rand_model.best_estimator_"
   ]
  },
  {
   "cell_type": "markdown",
   "id": "9357b3e6",
   "metadata": {},
   "source": [
    "**Task: Visualize the relationship between the mean fit time and the number of estimators**"
   ]
  },
  {
   "cell_type": "code",
   "execution_count": 33,
   "id": "4fb7809b",
   "metadata": {},
   "outputs": [
    {
     "data": {
      "image/png": "[encoded data removed]",
      "text/plain": [
       "<Figure size 432x288 with 1 Axes>"
      ]
     },
     "metadata": {
      "needs_background": "light"
     },
     "output_type": "display_data"
    }
   ],
   "source": [
    "mask_estimator = cv_result[cv_result[\"param_max_depth\"] == 10]\n",
    "plt.plot(\n",
    "    mask_estimator[\"mean_fit_time\"],mask_estimator[\"param_n_estimators\"]\n",
    ");"
   ]
  },
  {
   "cell_type": "markdown",
   "id": "09f8a136",
   "metadata": {},
   "source": [
    "**Task: Visualize the relationship between the mean fit time and the max depth**"
   ]
  },
  {
   "cell_type": "code",
   "execution_count": 34,
   "id": "1e68ad38",
   "metadata": {},
   "outputs": [
    {
     "data": {
      "image/png": "[encoded data removed]",
      "text/plain": [
       "<Figure size 432x288 with 1 Axes>"
      ]
     },
     "metadata": {
      "needs_background": "light"
     },
     "output_type": "display_data"
    }
   ],
   "source": [
    "mask_estimator = cv_result[cv_result[\"param_n_estimators\"] == 75]\n",
    "plt.plot(\n",
    "    mask_estimator[\"mean_fit_time\"], mask_estimator[\"param_max_depth\"]\n",
    ");"
   ]
  },
  {
   "cell_type": "markdown",
   "id": "b99b4bba",
   "metadata": {},
   "source": [
    "## Communicate"
   ]
  },
  {
   "cell_type": "markdown",
   "id": "d833a747",
   "metadata": {},
   "source": [
    "**Task: Create an interactive widget to generate predictions**"
   ]
  },
  {
   "cell_type": "code",
   "execution_count": 35,
   "id": "ee271e3b",
   "metadata": {},
   "outputs": [
    {
     "data": {
      "application/vnd.jupyter.widget-view+json": {
       "model_id": "c2eb704e8f954665bf43a206f9141899",
       "version_major": 2,
       "version_minor": 0
      },
      "text/plain": [
       "interactive(children=(FloatSlider(value=0.5, description='threshold', max=1.0, step=0.05), Output()), _dom_cla…"
      ]
     },
     "metadata": {},
     "output_type": "display_data"
    }
   ],
   "source": [
    "def make_cnf_matrix(threshold):\n",
    "    y_pred = rand_model.predict_proba(X_test)[:,-1] > threshold\n",
    "    \n",
    "    conf_matrix = confusion_matrix(y_test,y_pred)\n",
    "    tp, fp, fn, tn = conf_matrix.ravel()    \n",
    "    print(f'{round(tn/(tp + tn) * 100, 2)}% will come back to donate')\n",
    "    print(f'Precision = {round(tp/(tp + fp),2)}')\n",
    "    print(f'Recall = {round(tp/(tp + fn),2)}')\n",
    "    \n",
    "    ConfusionMatrixDisplay.from_predictions(y_test, y_pred, colorbar = False)\n",
    "\n",
    "thresh_widget = widgets.FloatSlider(max = 1, min = 0, value = 0.5, step = 0.05)\n",
    "interact(make_cnf_matrix, threshold = thresh_widget);"
   ]
  },
  {
   "cell_type": "markdown",
   "id": "5edde56e",
   "metadata": {},
   "source": [
    "**Task: Generate the feature importances**"
   ]
  },
  {
   "cell_type": "code",
   "execution_count": 36,
   "id": "a1ea12f2",
   "metadata": {},
   "outputs": [
    {
     "data": {
      "text/plain": [
       "array([0.2832393 , 0.15615241, 0.56060829])"
      ]
     },
     "execution_count": 36,
     "metadata": {},
     "output_type": "execute_result"
    }
   ],
   "source": [
    "feat_imp = rand_model.best_estimator_.feature_importances_\n",
    "feat_imp"
   ]
  },
  {
   "cell_type": "markdown",
   "id": "3bfdcd31",
   "metadata": {},
   "source": [
    "**Task: Create a series of feature importances (odd ratio)**"
   ]
  },
  {
   "cell_type": "code",
   "execution_count": 37,
   "id": "d7604d85",
   "metadata": {},
   "outputs": [
    {
     "data": {
      "text/plain": [
       "volume_donated                 0.156152\n",
       "months_since_last_donation     0.283239\n",
       "months_since_first_donation    0.560608\n",
       "dtype: float64"
      ]
     },
     "execution_count": 37,
     "metadata": {},
     "output_type": "execute_result"
    }
   ],
   "source": [
    "odds = pd.Series(feat_imp, index = X_train.columns).sort_values(ascending = True)\n",
    "odds"
   ]
  },
  {
   "cell_type": "markdown",
   "id": "89a1a709",
   "metadata": {},
   "source": [
    "**Task: Visualize the feature importance (odd's ratio)**"
   ]
  },
  {
   "cell_type": "code",
   "execution_count": 38,
   "id": "168d233f",
   "metadata": {},
   "outputs": [
    {
     "data": {
      "image/png": "[encoded data removed]",
      "text/plain": [
       "<Figure size 432x288 with 1 Axes>"
      ]
     },
     "metadata": {
      "needs_background": "light"
     },
     "output_type": "display_data"
    }
   ],
   "source": [
    "odds.plot(kind = \"barh\")\n",
    "plt.title(\"Feature Importances\");"
   ]
  },
  {
   "cell_type": "markdown",
   "id": "3756cfcf",
   "metadata": {},
   "source": [
    "# Findings"
   ]
  },
  {
   "cell_type": "markdown",
   "id": "17005ad1",
   "metadata": {},
   "source": [
    "<font face = \"Verdana\">\n",
    "<p>\n",
    "In order of importance, the following factors would prevent donors from making another donation:<br>\n",
    "<ul>\n",
    "<li>Months since first donation</li>\n",
    "<li>Months since last donation</li>\n",
    "<li>Volume donated</li>\n",
    "</ul>"
   ]
  },
  {
   "cell_type": "markdown",
   "id": "8f1615b6",
   "metadata": {},
   "source": [
    "## Deployment"
   ]
  },
  {
   "cell_type": "code",
   "execution_count": 39,
   "id": "7942d610",
   "metadata": {},
   "outputs": [],
   "source": [
    "# app = JupyterDash(__name__)\n",
    "app = dash.Dash(__name__, external_stylesheets=[dbc.themes.BOOTSTRAP])"
   ]
  },
  {
   "cell_type": "code",
   "execution_count": 40,
   "id": "8a24dca6",
   "metadata": {},
   "outputs": [],
   "source": [
    "def build_model(randForest = \"Random Forest Classifier\"):\n",
    "    target = \"class\"\n",
    "    y = df[target]\n",
    "    X = df.drop(columns = target)\n",
    "    X_train, X_test, y_train, y_test = train_test_split(X, y, test_size = 0.2, random_state = 32)\n",
    "    params = {\"n_estimators\" : range(25, 101, 25),\"max_depth\" : range(10, 60, 10)}\n",
    "    \n",
    "    if randForest == \"Random Forest Classifier\":\n",
    "        clf = RandomForestClassifier(random_state = 32)\n",
    "    else:\n",
    "        clf = GradientBoostingClassifier()\n",
    "        \n",
    "    model = GridSearchCV(clf, param_grid = params, n_jobs = -1, cv = 5, verbose = 1)\n",
    "    \n",
    "    return model"
   ]
  },
  {
   "cell_type": "code",
   "execution_count": 41,
   "id": "ddf27d36",
   "metadata": {},
   "outputs": [],
   "source": [
    "@app.callback(\n",
    "    Output(\"thresh-result\", \"children\"), \n",
    "    Input(\"model-drop\",\"value\"),\n",
    "    Input(\"thresh-slider\",\"value\")\n",
    ")\n",
    "\n",
    "def generate_predictions(randForest = \"Random Forest Classifier\", threshold = 0.5):\n",
    "    model = build_model(randForest)\n",
    "    model.fit(X_train, y_train)\n",
    "    y_pred = model.predict_proba(X_test)[:,-1] > threshold\n",
    "    conf_matrix = confusion_matrix(y_test,y_pred)\n",
    "    tp, fp, fn, tn = conf_matrix.ravel()    \n",
    "    output_text = html.H3(f'{round(tn/(tp + tn) * 100, 2)}% will come back to donate')\n",
    "\n",
    "    return output_text"
   ]
  },
  {
   "cell_type": "code",
   "execution_count": 42,
   "id": "bc86937d",
   "metadata": {},
   "outputs": [],
   "source": [
    "@app.callback(\n",
    "    Output(\"bar-chart\",\"figure\"), Input(\"model-drop\",\"value\")\n",
    ")\n",
    "def serve_features(randForest = \"Random Forest Classifier\"):\n",
    "    model = build_model(randForest)\n",
    "    model.fit(X_train, y_train)\n",
    "    feat_imp = model.best_estimator_.feature_importances_\n",
    "    odds = pd.Series(feat_imp, index = X_train.columns).sort_values(ascending = True)\n",
    "    index = [odd.replace(\"_\",\" \").title() for odd in odds.index.to_list()]\n",
    "    fig = px.bar(x = odds, y = index, orientation = \"h\")\n",
    "    fig.update_layout(xaxis_title = \"Odd's Ratio\", yaxis_title = \"Features\")\n",
    "    return fig"
   ]
  },
  {
   "cell_type": "code",
   "execution_count": null,
   "id": "fe7fd00d",
   "metadata": {},
   "outputs": [
    {
     "name": "stdout",
     "output_type": "stream",
     "text": [
      "Fitting 5 folds for each of 20 candidates, totalling 100 fits\n",
      "Dash is running on http://127.0.0.1:8050/\n",
      "\n",
      " * Serving Flask app '__main__'\n",
      " * Debug mode: on\n",
      "Fitting 5 folds for each of 20 candidates, totalling 100 fits\n",
      "Fitting 5 folds for each of 20 candidates, totalling 100 fits\n"
     ]
    }
   ],
   "source": [
    "# Graphs\n",
    "trends = [\"In this project, we'll use classification models to find out the proportion of donors that will make another blood donation in March\",\n",
    "          \".\"]\n",
    "newlabels = {'0' : 'Will not Return', '1': 'Will Return'}\n",
    "histogram = px.histogram(X, x = 'volume_donated', color = y, nbins=10, barmode = 'group', title = \"Distribution of Volume of Blood by Class\")\n",
    "histogram.update_layout(xaxis_title = \"Volume of Blood\", yaxis_title = \"Frequency\", legend_title = \"Legend\")\n",
    "histogram.for_each_trace(lambda t: t.update(name = newlabels[t.name], legendgroup = newlabels[t.name],\n",
    "                                hovertemplate = t.hovertemplate.replace(t.name, newlabels[t.name]) ))\n",
    "columns = df.columns.to_list()\n",
    "columns.remove('class')\n",
    "\n",
    "app.layout = html.Div([\n",
    "    html.Br(),\n",
    "    html.H2('Project: Blood Donation'),\n",
    "    dbc.Tabs([\n",
    "    dbc.Tab([\n",
    "        dbc.Row([\n",
    "            dbc.Col([\n",
    "                html.Br(),\n",
    "                html.Div([html.H3(\"Models\")]),\n",
    "                html.Div([\n",
    "                    dcc.Dropdown(\n",
    "                    options = [\"Random Forest Classifier\", \"Gradient Boosting Classifier\"],\n",
    "                        value = \"Random Forest Classifier\",\n",
    "                    id = \"model-drop\")\n",
    "                ]\n",
    "                ),html.Br(),\n",
    "                html.Div([html.H3(\"Threshold\")]),html.Br(),\n",
    "                dcc.Slider(\n",
    "                max = 1, min = 0, value = 0.5, step = 0.1,\n",
    "                id = \"thresh-slider\"\n",
    "                ),\n",
    "                html.Div(id = \"thresh-result\")\n",
    "                \n",
    "            ], width = 3, style = {'margin-left':'15px', 'margin-top':'7px', 'margin-right':'15px'}),\n",
    "            dbc.Col([\n",
    "                html.Div([html.H3(\"Predictions\")]),\n",
    "                html.Div([html.H4(\"Feature Importances\")]),\n",
    "                dcc.Graph(id = \"bar-chart\", figure = serve_features()),\n",
    "                html.Div([html.H4(\"Percentage of Potential Returnees:\")]),\n",
    "                html.Div(id = \"thresh-result\"),\n",
    "                html.Br(),\n",
    "                html.Div([html.Div([dcc.Graph(figure=histogram)])])\n",
    "            ], width = 6, style = {'margin-left':'15px', 'margin-top':'7px', 'margin-right':'15px'})\n",
    "        ])\n",
    "    ], label='Model Predictions'),\n",
    "    dbc.Tab([\n",
    "        html.Ul([\n",
    "            html.Br(),\n",
    "            html.Li('In this project, we used classification models to find out the proportion of donors that will make another blood donation in March'),\n",
    "            html.Li('We also found the important factors that can hinder donation'),\n",
    "            html.Li(['GitHub repo: ',\n",
    "                     html.A('https://github.com/GentRoyal/blood_donation',\n",
    "                            href='https://github.com/GentRoyal/blood_donation')])\n",
    "            ])\n",
    "        ], label='Project Info')\n",
    "    ])],style = {'margin-left':'15px', 'margin-top':'7px', 'margin-right':'15px'}\n",
    "    )\n",
    "                             \n",
    "\n",
    "# app.run_server(mode='external', debug=False)\n",
    "if __name__ == '__main__':\n",
    "    app.run_server(debug=True, use_reloader=False)"
   ]
  },
  {
   "cell_type": "code",
   "execution_count": null,
   "id": "ba3e56b0",
   "metadata": {},
   "outputs": [],
   "source": []
  }
 ],
 "metadata": {
  "kernelspec": {
   "display_name": "Python 3 (ipykernel)",
   "language": "python",
   "name": "python3"
  },
  "language_info": {
   "codemirror_mode": {
    "name": "ipython",
    "version": 3
   },
   "file_extension": ".py",
   "mimetype": "text/x-python",
   "name": "python",
   "nbconvert_exporter": "python",
   "pygments_lexer": "ipython3",
   "version": "3.9.12"
  }
 },
 "nbformat": 4,
 "nbformat_minor": 5
}
