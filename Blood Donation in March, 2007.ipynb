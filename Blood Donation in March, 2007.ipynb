{
 "cells": [
  {
   "cell_type": "markdown",
   "id": "461087cb",
   "metadata": {},
   "source": [
    "<font size = \"+3\"><strong>Blood Donation</strong></font>"
   ]
  },
  {
   "cell_type": "markdown",
   "id": "16435f05",
   "metadata": {},
   "source": [
    "<font size = \"+1\"><strong>Find out if a donor will give blood in March</strong></font>"
   ]
  },
  {
   "cell_type": "markdown",
   "id": "1d85f9d8",
   "metadata": {},
   "source": [
    "<font face = \"Verdana\">\n",
    "<p> A healthy blood is a real asset to blood tranfusion centers. One of the most important goals of blood transfusion centers is to get healthy blood that is collected from voluntary blood donors who can donate healthy blood.\n",
    "<p>There are several reasons individuals donate blood, and these reasons vary among individuals. Some of these reasons include:\n",
    "\n",
    "<ul>\n",
    "<li>Donation in case of emergencies</li>\n",
    "<li>Donation as an act of charity</li>\n",
    "<li>Donation to relatives only</li>\n",
    "<li>Donation to relatives only</li>\n",
    "</ul>\n",
    "\n",
    "<p>In this project, we'll use a classification maching learning model to find out if a donor will give make another blood donation in March, and we'll also find out the important factors that can hinder donation."
   ]
  },
  {
   "cell_type": "markdown",
   "id": "5ff3d629",
   "metadata": {},
   "source": [
    "# Prepare Data"
   ]
  },
  {
   "cell_type": "markdown",
   "id": "60652768",
   "metadata": {},
   "source": [
    "## Import"
   ]
  },
  {
   "cell_type": "markdown",
   "id": "4ebd5afa",
   "metadata": {},
   "source": [
    "**Task: Import all necessary libraries** "
   ]
  },
  {
   "cell_type": "code",
   "execution_count": 3,
   "id": "4ff2bead",
   "metadata": {},
   "outputs": [],
   "source": [
    "import pandas as pd\n",
    "import seaborn as sns\n",
    "import matplotlib.pyplot as plt\n",
    "from sklearn.tree import DecisionTreeClassifier\n",
    "from sklearn.ensemble import RandomForestClassifier, GradientBoostingClassifier\n",
    "from imblearn.over_sampling import RandomOverSampler\n",
    "from imblearn.under_sampling import RandomUnderSampler\n",
    "from sklearn.model_selection import train_test_split, GridSearchCV, cross_val_score\n",
    "from sklearn.metrics import ConfusionMatrixDisplay, classification_report, confusion_matrix\n",
    "\n",
    "import ipywidgets as widgets\n",
    "from ipywidgets import interact"
   ]
  },
  {
   "cell_type": "markdown",
   "id": "4c90a448",
   "metadata": {},
   "source": [
    "**Task: Create a wrangle function to clean the dataset** "
   ]
  },
  {
   "cell_type": "code",
   "execution_count": 112,
   "id": "589d3a87",
   "metadata": {},
   "outputs": [
    {
     "data": {
      "text/html": [
       "<div>\n",
       "<style scoped>\n",
       "    .dataframe tbody tr th:only-of-type {\n",
       "        vertical-align: middle;\n",
       "    }\n",
       "\n",
       "    .dataframe tbody tr th {\n",
       "        vertical-align: top;\n",
       "    }\n",
       "\n",
       "    .dataframe thead th {\n",
       "        text-align: right;\n",
       "    }\n",
       "</style>\n",
       "<table border=\"1\" class=\"dataframe\">\n",
       "  <thead>\n",
       "    <tr style=\"text-align: right;\">\n",
       "      <th></th>\n",
       "      <th>months_since_last_donation</th>\n",
       "      <th>volume_donated</th>\n",
       "      <th>months_since_first_donation</th>\n",
       "      <th>class</th>\n",
       "    </tr>\n",
       "  </thead>\n",
       "  <tbody>\n",
       "    <tr>\n",
       "      <th>0</th>\n",
       "      <td>4</td>\n",
       "      <td>1000</td>\n",
       "      <td>4</td>\n",
       "      <td>0</td>\n",
       "    </tr>\n",
       "    <tr>\n",
       "      <th>1</th>\n",
       "      <td>2</td>\n",
       "      <td>1750</td>\n",
       "      <td>14</td>\n",
       "      <td>1</td>\n",
       "    </tr>\n",
       "    <tr>\n",
       "      <th>2</th>\n",
       "      <td>0</td>\n",
       "      <td>750</td>\n",
       "      <td>4</td>\n",
       "      <td>0</td>\n",
       "    </tr>\n",
       "    <tr>\n",
       "      <th>3</th>\n",
       "      <td>2</td>\n",
       "      <td>1500</td>\n",
       "      <td>15</td>\n",
       "      <td>1</td>\n",
       "    </tr>\n",
       "    <tr>\n",
       "      <th>4</th>\n",
       "      <td>2</td>\n",
       "      <td>1250</td>\n",
       "      <td>11</td>\n",
       "      <td>1</td>\n",
       "    </tr>\n",
       "  </tbody>\n",
       "</table>\n",
       "</div>"
      ],
      "text/plain": [
       "   months_since_last_donation  volume_donated  months_since_first_donation  \\\n",
       "0                           4            1000                            4   \n",
       "1                           2            1750                           14   \n",
       "2                           0             750                            4   \n",
       "3                           2            1500                           15   \n",
       "4                           2            1250                           11   \n",
       "\n",
       "   class  \n",
       "0      0  \n",
       "1      1  \n",
       "2      0  \n",
       "3      1  \n",
       "4      1  "
      ]
     },
     "execution_count": 112,
     "metadata": {},
     "output_type": "execute_result"
    }
   ],
   "source": [
    "def wrangle(filepath):\n",
    "    #Read dataframe\n",
    "    df = pd.read_csv(filepath)\n",
    "    \n",
    "    #Rename columns\n",
    "    df.columns = ['months_since_last_donation','num_donations','volume_donated','months_since_first_donation', 'class']\n",
    "    \n",
    "    #Remove outliers in volumes donated\n",
    "    low, high = df[\"volume_donated\"].quantile([0.25, 0.75])\n",
    "    df = df[df[\"volume_donated\"].between(low, high)]\n",
    "    \n",
    "    #Drop one of the correlated features\n",
    "    df.drop(columns = [\"num_donations\"], inplace = True)\n",
    "    \n",
    "    df = df.reset_index()\n",
    "    \n",
    "    df.drop(columns = [\"index\"], inplace = True)\n",
    "    \n",
    "    return df\n",
    "\n",
    "df = wrangle(\"transfusion.data.csv\")\n",
    "df.head()"
   ]
  },
  {
   "cell_type": "markdown",
   "id": "dfad075f",
   "metadata": {},
   "source": [
    "**Task: Inspect the info of the dataframe `df`**"
   ]
  },
  {
   "cell_type": "code",
   "execution_count": 113,
   "id": "1070fe2c",
   "metadata": {},
   "outputs": [
    {
     "name": "stdout",
     "output_type": "stream",
     "text": [
      "<class 'pandas.core.frame.DataFrame'>\n",
      "RangeIndex: 418 entries, 0 to 417\n",
      "Data columns (total 4 columns):\n",
      " #   Column                       Non-Null Count  Dtype\n",
      "---  ------                       --------------  -----\n",
      " 0   months_since_last_donation   418 non-null    int64\n",
      " 1   volume_donated               418 non-null    int64\n",
      " 2   months_since_first_donation  418 non-null    int64\n",
      " 3   class                        418 non-null    int64\n",
      "dtypes: int64(4)\n",
      "memory usage: 13.2 KB\n"
     ]
    }
   ],
   "source": [
    "df.info()"
   ]
  },
  {
   "cell_type": "markdown",
   "id": "c0e4041a",
   "metadata": {},
   "source": [
    "## Explore"
   ]
  },
  {
   "cell_type": "markdown",
   "id": "5245b351",
   "metadata": {},
   "source": [
    "**Task: Check the presence of outliers in the column `volume_donated`**"
   ]
  },
  {
   "cell_type": "code",
   "execution_count": 21,
   "id": "16042f6e",
   "metadata": {},
   "outputs": [
    {
     "data": {
      "image/png": "[encoded data removed]",
      "text/plain": [
       "<Figure size 640x480 with 1 Axes>"
      ]
     },
     "metadata": {},
     "output_type": "display_data"
    }
   ],
   "source": [
    "df[\"volume_donated\"].plot(kind = \"box\", vert = False)\n",
    "plt.title(\"Checking outliers\")\n",
    "plt.xlabel(\"Amount donated\");"
   ]
  },
  {
   "cell_type": "markdown",
   "id": "bb6e89c5",
   "metadata": {},
   "source": [
    "**Task: Check the presence of outliers in the column `months_since_first_donation`**"
   ]
  },
  {
   "cell_type": "code",
   "execution_count": 31,
   "id": "cea7f34b",
   "metadata": {},
   "outputs": [
    {
     "data": {
      "image/png": "[encoded data removed]",
      "text/plain": [
       "<Figure size 640x480 with 1 Axes>"
      ]
     },
     "metadata": {},
     "output_type": "display_data"
    }
   ],
   "source": [
    "df[\"months_since_first_donation\"].hist();"
   ]
  },
  {
   "cell_type": "markdown",
   "id": "057e15e6",
   "metadata": {},
   "source": [
    "**Task: Calculate the average blood donated** "
   ]
  },
  {
   "cell_type": "code",
   "execution_count": 32,
   "id": "8c406b41",
   "metadata": {},
   "outputs": [
    {
     "name": "stdout",
     "output_type": "stream",
     "text": [
      "Average blood donated:  990.43\n"
     ]
    }
   ],
   "source": [
    "print(\"Average blood donated: \",df[\"volume_donated\"].mean().round(2))"
   ]
  },
  {
   "cell_type": "markdown",
   "id": "97d6bebf",
   "metadata": {},
   "source": [
    "**Task: Plot a correlation heatmap of the numerical features to check for multicollinearity issues** "
   ]
  },
  {
   "cell_type": "code",
   "execution_count": 48,
   "id": "5964d322",
   "metadata": {},
   "outputs": [
    {
     "data": {
      "text/html": [
       "<div>\n",
       "<style scoped>\n",
       "    .dataframe tbody tr th:only-of-type {\n",
       "        vertical-align: middle;\n",
       "    }\n",
       "\n",
       "    .dataframe tbody tr th {\n",
       "        vertical-align: top;\n",
       "    }\n",
       "\n",
       "    .dataframe thead th {\n",
       "        text-align: right;\n",
       "    }\n",
       "</style>\n",
       "<table border=\"1\" class=\"dataframe\">\n",
       "  <thead>\n",
       "    <tr style=\"text-align: right;\">\n",
       "      <th></th>\n",
       "      <th>index</th>\n",
       "      <th>months_since_last_donation</th>\n",
       "      <th>num_donations</th>\n",
       "      <th>volume_donated</th>\n",
       "      <th>months_since_first_donation</th>\n",
       "    </tr>\n",
       "  </thead>\n",
       "  <tbody>\n",
       "    <tr>\n",
       "      <th>index</th>\n",
       "      <td>1.000000</td>\n",
       "      <td>0.499581</td>\n",
       "      <td>-0.095901</td>\n",
       "      <td>-0.095901</td>\n",
       "      <td>0.360599</td>\n",
       "    </tr>\n",
       "    <tr>\n",
       "      <th>months_since_last_donation</th>\n",
       "      <td>0.499581</td>\n",
       "      <td>1.000000</td>\n",
       "      <td>-0.129668</td>\n",
       "      <td>-0.129668</td>\n",
       "      <td>0.318700</td>\n",
       "    </tr>\n",
       "    <tr>\n",
       "      <th>num_donations</th>\n",
       "      <td>-0.095901</td>\n",
       "      <td>-0.129668</td>\n",
       "      <td>1.000000</td>\n",
       "      <td>1.000000</td>\n",
       "      <td>0.388263</td>\n",
       "    </tr>\n",
       "    <tr>\n",
       "      <th>volume_donated</th>\n",
       "      <td>-0.095901</td>\n",
       "      <td>-0.129668</td>\n",
       "      <td>1.000000</td>\n",
       "      <td>1.000000</td>\n",
       "      <td>0.388263</td>\n",
       "    </tr>\n",
       "    <tr>\n",
       "      <th>months_since_first_donation</th>\n",
       "      <td>0.360599</td>\n",
       "      <td>0.318700</td>\n",
       "      <td>0.388263</td>\n",
       "      <td>0.388263</td>\n",
       "      <td>1.000000</td>\n",
       "    </tr>\n",
       "  </tbody>\n",
       "</table>\n",
       "</div>"
      ],
      "text/plain": [
       "                                index  months_since_last_donation  \\\n",
       "index                        1.000000                    0.499581   \n",
       "months_since_last_donation   0.499581                    1.000000   \n",
       "num_donations               -0.095901                   -0.129668   \n",
       "volume_donated              -0.095901                   -0.129668   \n",
       "months_since_first_donation  0.360599                    0.318700   \n",
       "\n",
       "                             num_donations  volume_donated  \\\n",
       "index                            -0.095901       -0.095901   \n",
       "months_since_last_donation       -0.129668       -0.129668   \n",
       "num_donations                     1.000000        1.000000   \n",
       "volume_donated                    1.000000        1.000000   \n",
       "months_since_first_donation       0.388263        0.388263   \n",
       "\n",
       "                             months_since_first_donation  \n",
       "index                                           0.360599  \n",
       "months_since_last_donation                      0.318700  \n",
       "num_donations                                   0.388263  \n",
       "volume_donated                                  0.388263  \n",
       "months_since_first_donation                     1.000000  "
      ]
     },
     "execution_count": 48,
     "metadata": {},
     "output_type": "execute_result"
    }
   ],
   "source": [
    "corr = df.drop(columns = [\"class\"]).corr()\n",
    "corr"
   ]
  },
  {
   "cell_type": "code",
   "execution_count": 50,
   "id": "d7778386",
   "metadata": {},
   "outputs": [
    {
     "data": {
      "image/png": "[encoded data removed]",
      "text/plain": [
       "<Figure size 640x480 with 2 Axes>"
      ]
     },
     "metadata": {},
     "output_type": "display_data"
    }
   ],
   "source": [
    "sns.heatmap(corr);"
   ]
  },
  {
   "cell_type": "markdown",
   "id": "5fe43a2f",
   "metadata": {},
   "source": [
    "**Task 6: Create a boxplot to display the distributions of the `\"volume_donated\"` column for both groups in the `\"class\"` column.**"
   ]
  },
  {
   "cell_type": "code",
   "execution_count": 114,
   "id": "3808e5ee",
   "metadata": {},
   "outputs": [
    {
     "data": {
      "image/png": "[encoded data removed]",
      "text/plain": [
       "<Figure size 640x480 with 1 Axes>"
      ]
     },
     "metadata": {},
     "output_type": "display_data"
    }
   ],
   "source": [
    "sns.boxplot(data = df, x = \"class\", y = \"volume_donated\")\n",
    "plt.xlabel(\"Class\")\n",
    "plt.ylabel(\"Volume donated [cc]\")\n",
    "plt.title(\"Distribution of volume [cc] by class\");"
   ]
  },
  {
   "cell_type": "markdown",
   "id": "435429be",
   "metadata": {},
   "source": [
    "***Comment:*** The boxplot shows that 50% of people that will not donate in March are in the range of 500 cc and 1200 cc of blood donation, while 50% of people that will donate in March, are in the range 780 cc and 1450 cc of blood donation"
   ]
  },
  {
   "cell_type": "markdown",
   "id": "a58f6ffb",
   "metadata": {},
   "source": [
    "**Task: Check the proportion of donors that return and donors that do not**"
   ]
  },
  {
   "cell_type": "code",
   "execution_count": 144,
   "id": "68891753",
   "metadata": {},
   "outputs": [
    {
     "name": "stdout",
     "output_type": "stream",
     "text": [
      "Proportion that do not return:  0.77\n",
      "Proportion that return:  0.23\n"
     ]
    }
   ],
   "source": [
    "major, minor = df[\"class\"].value_counts(normalize = True)\n",
    "print(\"Proportion that do not return: \", round(major,2))\n",
    "print(\"Proportion that return: \", round(minor,2))"
   ]
  },
  {
   "cell_type": "markdown",
   "id": "f6ee9709",
   "metadata": {},
   "source": [
    "**Task: Visualize the above proportions**"
   ]
  },
  {
   "cell_type": "code",
   "execution_count": 116,
   "id": "1b341d3b",
   "metadata": {},
   "outputs": [
    {
     "data": {
      "image/png": "[encoded data removed]",
      "text/plain": [
       "<Figure size 640x480 with 1 Axes>"
      ]
     },
     "metadata": {},
     "output_type": "display_data"
    }
   ],
   "source": [
    "df[\"class\"].value_counts(normalize = True).plot(kind = \"bar\")\n",
    "plt.xlabel(\"Class\")\n",
    "plt.ylabel(\"Relative frequency\")\n",
    "plt.title(\"Class balance [proportion (%)]\");"
   ]
  },
  {
   "cell_type": "markdown",
   "id": "0354cb45",
   "metadata": {},
   "source": [
    "## Split"
   ]
  },
  {
   "cell_type": "markdown",
   "id": "4273e34b",
   "metadata": {},
   "source": [
    "**Task: Create the feature matrix `X` and target vector `y`. The target in this case is `\"class\"`.**"
   ]
  },
  {
   "cell_type": "code",
   "execution_count": 117,
   "id": "3e7c631a",
   "metadata": {},
   "outputs": [],
   "source": [
    "target = \"class\"\n",
    "y = df[target]\n",
    "X = df.drop(columns = target)"
   ]
  },
  {
   "cell_type": "markdown",
   "id": "ce2cb1e2",
   "metadata": {},
   "source": [
    "**Task: Create a train_test_split to split the training and test data**"
   ]
  },
  {
   "cell_type": "code",
   "execution_count": 118,
   "id": "699810f7",
   "metadata": {},
   "outputs": [],
   "source": [
    "X_train, X_test, y_train, y_test = train_test_split(\n",
    "    X, y, test_size = 0.2, random_state = 32\n",
    ")"
   ]
  },
  {
   "cell_type": "markdown",
   "id": "32df0cb2",
   "metadata": {},
   "source": [
    "# Build Model"
   ]
  },
  {
   "cell_type": "markdown",
   "id": "314ac55e",
   "metadata": {},
   "source": [
    "## Baseline"
   ]
  },
  {
   "cell_type": "markdown",
   "id": "4a2ba679",
   "metadata": {},
   "source": [
    "**Task: Calculate the baseline accurracy score**"
   ]
  },
  {
   "cell_type": "code",
   "execution_count": 119,
   "id": "e6ab9537",
   "metadata": {},
   "outputs": [
    {
     "name": "stdout",
     "output_type": "stream",
     "text": [
      "Baseline Accuracy score:  0.76\n"
     ]
    }
   ],
   "source": [
    "acc_score = y_train.value_counts(normalize = True).max().round(2)\n",
    "print(\"Baseline Accuracy score: \", round(acc_score, 2))"
   ]
  },
  {
   "cell_type": "markdown",
   "id": "7e8d012f",
   "metadata": {},
   "source": [
    "**Task: Resample the dataset uisng random samplers**"
   ]
  },
  {
   "cell_type": "code",
   "execution_count": 120,
   "id": "69f221e3",
   "metadata": {},
   "outputs": [],
   "source": [
    "over_sampler = RandomOverSampler(random_state = 32)\n",
    "X_train_over, y_train_over = over_sampler.fit_resample(X_train, y_train)\n",
    "under_sampler = RandomUnderSampler(random_state = 32)\n",
    "X_train_under, y_train_under = under_sampler.fit_resample(X_train, y_train)"
   ]
  },
  {
   "cell_type": "markdown",
   "id": "0617c3e9",
   "metadata": {},
   "source": [
    "## Iterate & Evaluate"
   ]
  },
  {
   "cell_type": "markdown",
   "id": "df5f08a1",
   "metadata": {},
   "source": [
    "### Random Forest Classifier"
   ]
  },
  {
   "cell_type": "markdown",
   "id": "a57f5653",
   "metadata": {},
   "source": [
    "**Task: Instantiate and train three RandomForestClassifier models**"
   ]
  },
  {
   "cell_type": "code",
   "execution_count": 121,
   "id": "acbe7019",
   "metadata": {},
   "outputs": [
    {
     "data": {
      "text/html": [
       "<style>#sk-container-id-6 {color: black;background-color: white;}#sk-container-id-6 pre{padding: 0;}#sk-container-id-6 div.sk-toggleable {background-color: white;}#sk-container-id-6 label.sk-toggleable__label {cursor: pointer;display: block;width: 100%;margin-bottom: 0;padding: 0.3em;box-sizing: border-box;text-align: center;}#sk-container-id-6 label.sk-toggleable__label-arrow:before {content: \"▸\";float: left;margin-right: 0.25em;color: #696969;}#sk-container-id-6 label.sk-toggleable__label-arrow:hover:before {color: black;}#sk-container-id-6 div.sk-estimator:hover label.sk-toggleable__label-arrow:before {color: black;}#sk-container-id-6 div.sk-toggleable__content {max-height: 0;max-width: 0;overflow: hidden;text-align: left;background-color: #f0f8ff;}#sk-container-id-6 div.sk-toggleable__content pre {margin: 0.2em;color: black;border-radius: 0.25em;background-color: #f0f8ff;}#sk-container-id-6 input.sk-toggleable__control:checked~div.sk-toggleable__content {max-height: 200px;max-width: 100%;overflow: auto;}#sk-container-id-6 input.sk-toggleable__control:checked~label.sk-toggleable__label-arrow:before {content: \"▾\";}#sk-container-id-6 div.sk-estimator input.sk-toggleable__control:checked~label.sk-toggleable__label {background-color: #d4ebff;}#sk-container-id-6 div.sk-label input.sk-toggleable__control:checked~label.sk-toggleable__label {background-color: #d4ebff;}#sk-container-id-6 input.sk-hidden--visually {border: 0;clip: rect(1px 1px 1px 1px);clip: rect(1px, 1px, 1px, 1px);height: 1px;margin: -1px;overflow: hidden;padding: 0;position: absolute;width: 1px;}#sk-container-id-6 div.sk-estimator {font-family: monospace;background-color: #f0f8ff;border: 1px dotted black;border-radius: 0.25em;box-sizing: border-box;margin-bottom: 0.5em;}#sk-container-id-6 div.sk-estimator:hover {background-color: #d4ebff;}#sk-container-id-6 div.sk-parallel-item::after {content: \"\";width: 100%;border-bottom: 1px solid gray;flex-grow: 1;}#sk-container-id-6 div.sk-label:hover label.sk-toggleable__label {background-color: #d4ebff;}#sk-container-id-6 div.sk-serial::before {content: \"\";position: absolute;border-left: 1px solid gray;box-sizing: border-box;top: 0;bottom: 0;left: 50%;z-index: 0;}#sk-container-id-6 div.sk-serial {display: flex;flex-direction: column;align-items: center;background-color: white;padding-right: 0.2em;padding-left: 0.2em;position: relative;}#sk-container-id-6 div.sk-item {position: relative;z-index: 1;}#sk-container-id-6 div.sk-parallel {display: flex;align-items: stretch;justify-content: center;background-color: white;position: relative;}#sk-container-id-6 div.sk-item::before, #sk-container-id-6 div.sk-parallel-item::before {content: \"\";position: absolute;border-left: 1px solid gray;box-sizing: border-box;top: 0;bottom: 0;left: 50%;z-index: -1;}#sk-container-id-6 div.sk-parallel-item {display: flex;flex-direction: column;z-index: 1;position: relative;background-color: white;}#sk-container-id-6 div.sk-parallel-item:first-child::after {align-self: flex-end;width: 50%;}#sk-container-id-6 div.sk-parallel-item:last-child::after {align-self: flex-start;width: 50%;}#sk-container-id-6 div.sk-parallel-item:only-child::after {width: 0;}#sk-container-id-6 div.sk-dashed-wrapped {border: 1px dashed gray;margin: 0 0.4em 0.5em 0.4em;box-sizing: border-box;padding-bottom: 0.4em;background-color: white;}#sk-container-id-6 div.sk-label label {font-family: monospace;font-weight: bold;display: inline-block;line-height: 1.2em;}#sk-container-id-6 div.sk-label-container {text-align: center;}#sk-container-id-6 div.sk-container {/* jupyter's `normalize.less` sets `[hidden] { display: none; }` but bootstrap.min.css set `[hidden] { display: none !important; }` so we also need the `!important` here to be able to override the default hidden behavior on the sphinx rendered scikit-learn.org. See: https://github.com/scikit-learn/scikit-learn/issues/21755 */display: inline-block !important;position: relative;}#sk-container-id-6 div.sk-text-repr-fallback {display: none;}</style><div id=\"sk-container-id-6\" class=\"sk-top-container\"><div class=\"sk-text-repr-fallback\"><pre>RandomForestClassifier(random_state=32)</pre><b>In a Jupyter environment, please rerun this cell to show the HTML representation or trust the notebook. <br />On GitHub, the HTML representation is unable to render, please try loading this page with nbviewer.org.</b></div><div class=\"sk-container\" hidden><div class=\"sk-item\"><div class=\"sk-estimator sk-toggleable\"><input class=\"sk-toggleable__control sk-hidden--visually\" id=\"sk-estimator-id-10\" type=\"checkbox\" checked><label for=\"sk-estimator-id-10\" class=\"sk-toggleable__label sk-toggleable__label-arrow\">RandomForestClassifier</label><div class=\"sk-toggleable__content\"><pre>RandomForestClassifier(random_state=32)</pre></div></div></div></div></div>"
      ],
      "text/plain": [
       "RandomForestClassifier(random_state=32)"
      ]
     },
     "execution_count": 121,
     "metadata": {},
     "output_type": "execute_result"
    }
   ],
   "source": [
    "model_over = RandomForestClassifier(random_state = 32)\n",
    "model_over.fit(X_train_over, y_train_over)\n",
    "model_under = RandomForestClassifier(random_state = 32)\n",
    "model_under.fit(X_train_under, y_train_under)\n",
    "model = RandomForestClassifier(random_state = 32)\n",
    "model.fit(X_train, y_train)\n"
   ]
  },
  {
   "cell_type": "markdown",
   "id": "b713d5cd",
   "metadata": {},
   "source": [
    "**Task: Calculate the accurracy scores of the three models trained above**"
   ]
  },
  {
   "cell_type": "code",
   "execution_count": 122,
   "id": "10143b24",
   "metadata": {},
   "outputs": [
    {
     "name": "stdout",
     "output_type": "stream",
     "text": [
      "Train score: 0.92\n",
      "Test score: 0.63\n",
      "\n",
      "Train score: 0.71\n",
      "Test score: 0.5\n",
      "\n",
      "Train score: 0.94\n",
      "Test score: 0.68\n",
      "\n"
     ]
    }
   ],
   "source": [
    "for m in [model_over, model_under, model]:\n",
    "    print(f'Train score: {round(m.score(X_train, y_train), 2)}')\n",
    "    print(f'Test score: {round(m.score(X_test, y_test), 2)}\\n')"
   ]
  },
  {
   "cell_type": "markdown",
   "id": "357e05e8",
   "metadata": {},
   "source": [
    "**Task: Instantiate a RandomForestClassifier model**"
   ]
  },
  {
   "cell_type": "code",
   "execution_count": 123,
   "id": "8cd5038a",
   "metadata": {},
   "outputs": [],
   "source": [
    "rand_clf = RandomForestClassifier(random_state = 32)"
   ]
  },
  {
   "cell_type": "markdown",
   "id": "87d77fbb",
   "metadata": {},
   "source": [
    "**Task: Calculate the Cross Validation scores of the best sample**"
   ]
  },
  {
   "cell_type": "code",
   "execution_count": 124,
   "id": "37a2fec3",
   "metadata": {},
   "outputs": [
    {
     "data": {
      "text/plain": [
       "array([0.71641791, 0.7761194 , 0.7761194 , 0.73134328, 0.62121212])"
      ]
     },
     "execution_count": 124,
     "metadata": {},
     "output_type": "execute_result"
    }
   ],
   "source": [
    "cv_score = cross_val_score(rand_clf, X_train, y_train, n_jobs = -1, cv = 5)\n",
    "cv_score"
   ]
  },
  {
   "cell_type": "markdown",
   "id": "199c0b1e",
   "metadata": {},
   "source": [
    "**Task: Create a dictionary of parameters**"
   ]
  },
  {
   "cell_type": "code",
   "execution_count": 125,
   "id": "c15b4f2f",
   "metadata": {},
   "outputs": [
    {
     "data": {
      "text/plain": [
       "{'n_estimators': range(25, 101, 25), 'max_depth': range(10, 60, 10)}"
      ]
     },
     "execution_count": 125,
     "metadata": {},
     "output_type": "execute_result"
    }
   ],
   "source": [
    "params = {\n",
    "    \"n_estimators\" : range(25, 101, 25),\n",
    "    \"max_depth\" : range(10, 60, 10)\n",
    "}\n",
    "params"
   ]
  },
  {
   "cell_type": "markdown",
   "id": "16749619",
   "metadata": {},
   "source": [
    "**Task: Tune the hyperparameters using a GridSearchCV**"
   ]
  },
  {
   "cell_type": "code",
   "execution_count": 126,
   "id": "7c01587e",
   "metadata": {},
   "outputs": [
    {
     "name": "stdout",
     "output_type": "stream",
     "text": [
      "Fitting 5 folds for each of 20 candidates, totalling 100 fits\n"
     ]
    },
    {
     "data": {
      "text/html": [
       "<style>#sk-container-id-7 {color: black;background-color: white;}#sk-container-id-7 pre{padding: 0;}#sk-container-id-7 div.sk-toggleable {background-color: white;}#sk-container-id-7 label.sk-toggleable__label {cursor: pointer;display: block;width: 100%;margin-bottom: 0;padding: 0.3em;box-sizing: border-box;text-align: center;}#sk-container-id-7 label.sk-toggleable__label-arrow:before {content: \"▸\";float: left;margin-right: 0.25em;color: #696969;}#sk-container-id-7 label.sk-toggleable__label-arrow:hover:before {color: black;}#sk-container-id-7 div.sk-estimator:hover label.sk-toggleable__label-arrow:before {color: black;}#sk-container-id-7 div.sk-toggleable__content {max-height: 0;max-width: 0;overflow: hidden;text-align: left;background-color: #f0f8ff;}#sk-container-id-7 div.sk-toggleable__content pre {margin: 0.2em;color: black;border-radius: 0.25em;background-color: #f0f8ff;}#sk-container-id-7 input.sk-toggleable__control:checked~div.sk-toggleable__content {max-height: 200px;max-width: 100%;overflow: auto;}#sk-container-id-7 input.sk-toggleable__control:checked~label.sk-toggleable__label-arrow:before {content: \"▾\";}#sk-container-id-7 div.sk-estimator input.sk-toggleable__control:checked~label.sk-toggleable__label {background-color: #d4ebff;}#sk-container-id-7 div.sk-label input.sk-toggleable__control:checked~label.sk-toggleable__label {background-color: #d4ebff;}#sk-container-id-7 input.sk-hidden--visually {border: 0;clip: rect(1px 1px 1px 1px);clip: rect(1px, 1px, 1px, 1px);height: 1px;margin: -1px;overflow: hidden;padding: 0;position: absolute;width: 1px;}#sk-container-id-7 div.sk-estimator {font-family: monospace;background-color: #f0f8ff;border: 1px dotted black;border-radius: 0.25em;box-sizing: border-box;margin-bottom: 0.5em;}#sk-container-id-7 div.sk-estimator:hover {background-color: #d4ebff;}#sk-container-id-7 div.sk-parallel-item::after {content: \"\";width: 100%;border-bottom: 1px solid gray;flex-grow: 1;}#sk-container-id-7 div.sk-label:hover label.sk-toggleable__label {background-color: #d4ebff;}#sk-container-id-7 div.sk-serial::before {content: \"\";position: absolute;border-left: 1px solid gray;box-sizing: border-box;top: 0;bottom: 0;left: 50%;z-index: 0;}#sk-container-id-7 div.sk-serial {display: flex;flex-direction: column;align-items: center;background-color: white;padding-right: 0.2em;padding-left: 0.2em;position: relative;}#sk-container-id-7 div.sk-item {position: relative;z-index: 1;}#sk-container-id-7 div.sk-parallel {display: flex;align-items: stretch;justify-content: center;background-color: white;position: relative;}#sk-container-id-7 div.sk-item::before, #sk-container-id-7 div.sk-parallel-item::before {content: \"\";position: absolute;border-left: 1px solid gray;box-sizing: border-box;top: 0;bottom: 0;left: 50%;z-index: -1;}#sk-container-id-7 div.sk-parallel-item {display: flex;flex-direction: column;z-index: 1;position: relative;background-color: white;}#sk-container-id-7 div.sk-parallel-item:first-child::after {align-self: flex-end;width: 50%;}#sk-container-id-7 div.sk-parallel-item:last-child::after {align-self: flex-start;width: 50%;}#sk-container-id-7 div.sk-parallel-item:only-child::after {width: 0;}#sk-container-id-7 div.sk-dashed-wrapped {border: 1px dashed gray;margin: 0 0.4em 0.5em 0.4em;box-sizing: border-box;padding-bottom: 0.4em;background-color: white;}#sk-container-id-7 div.sk-label label {font-family: monospace;font-weight: bold;display: inline-block;line-height: 1.2em;}#sk-container-id-7 div.sk-label-container {text-align: center;}#sk-container-id-7 div.sk-container {/* jupyter's `normalize.less` sets `[hidden] { display: none; }` but bootstrap.min.css set `[hidden] { display: none !important; }` so we also need the `!important` here to be able to override the default hidden behavior on the sphinx rendered scikit-learn.org. See: https://github.com/scikit-learn/scikit-learn/issues/21755 */display: inline-block !important;position: relative;}#sk-container-id-7 div.sk-text-repr-fallback {display: none;}</style><div id=\"sk-container-id-7\" class=\"sk-top-container\"><div class=\"sk-text-repr-fallback\"><pre>GridSearchCV(cv=5, estimator=RandomForestClassifier(random_state=32), n_jobs=-1,\n",
       "             param_grid={&#x27;max_depth&#x27;: range(10, 60, 10),\n",
       "                         &#x27;n_estimators&#x27;: range(25, 101, 25)},\n",
       "             verbose=1)</pre><b>In a Jupyter environment, please rerun this cell to show the HTML representation or trust the notebook. <br />On GitHub, the HTML representation is unable to render, please try loading this page with nbviewer.org.</b></div><div class=\"sk-container\" hidden><div class=\"sk-item sk-dashed-wrapped\"><div class=\"sk-label-container\"><div class=\"sk-label sk-toggleable\"><input class=\"sk-toggleable__control sk-hidden--visually\" id=\"sk-estimator-id-11\" type=\"checkbox\" ><label for=\"sk-estimator-id-11\" class=\"sk-toggleable__label sk-toggleable__label-arrow\">GridSearchCV</label><div class=\"sk-toggleable__content\"><pre>GridSearchCV(cv=5, estimator=RandomForestClassifier(random_state=32), n_jobs=-1,\n",
       "             param_grid={&#x27;max_depth&#x27;: range(10, 60, 10),\n",
       "                         &#x27;n_estimators&#x27;: range(25, 101, 25)},\n",
       "             verbose=1)</pre></div></div></div><div class=\"sk-parallel\"><div class=\"sk-parallel-item\"><div class=\"sk-item\"><div class=\"sk-label-container\"><div class=\"sk-label sk-toggleable\"><input class=\"sk-toggleable__control sk-hidden--visually\" id=\"sk-estimator-id-12\" type=\"checkbox\" ><label for=\"sk-estimator-id-12\" class=\"sk-toggleable__label sk-toggleable__label-arrow\">estimator: RandomForestClassifier</label><div class=\"sk-toggleable__content\"><pre>RandomForestClassifier(random_state=32)</pre></div></div></div><div class=\"sk-serial\"><div class=\"sk-item\"><div class=\"sk-estimator sk-toggleable\"><input class=\"sk-toggleable__control sk-hidden--visually\" id=\"sk-estimator-id-13\" type=\"checkbox\" ><label for=\"sk-estimator-id-13\" class=\"sk-toggleable__label sk-toggleable__label-arrow\">RandomForestClassifier</label><div class=\"sk-toggleable__content\"><pre>RandomForestClassifier(random_state=32)</pre></div></div></div></div></div></div></div></div></div></div>"
      ],
      "text/plain": [
       "GridSearchCV(cv=5, estimator=RandomForestClassifier(random_state=32), n_jobs=-1,\n",
       "             param_grid={'max_depth': range(10, 60, 10),\n",
       "                         'n_estimators': range(25, 101, 25)},\n",
       "             verbose=1)"
      ]
     },
     "execution_count": 126,
     "metadata": {},
     "output_type": "execute_result"
    }
   ],
   "source": [
    "rand_model = GridSearchCV(rand_clf, param_grid = params, n_jobs = -1, cv = 5, verbose = 1)\n",
    "rand_model.fit(X_train, y_train)"
   ]
  },
  {
   "cell_type": "markdown",
   "id": "f4386814",
   "metadata": {},
   "source": [
    "**Task: Visualize the Confusion Matrix**"
   ]
  },
  {
   "cell_type": "code",
   "execution_count": 127,
   "id": "a7dab35b",
   "metadata": {},
   "outputs": [
    {
     "data": {
      "image/png": "[encoded data removed]",
      "text/plain": [
       "<Figure size 640x480 with 2 Axes>"
      ]
     },
     "metadata": {},
     "output_type": "display_data"
    }
   ],
   "source": [
    "ConfusionMatrixDisplay.from_estimator(rand_model, X_test, y_test);"
   ]
  },
  {
   "cell_type": "markdown",
   "id": "a391717b",
   "metadata": {},
   "source": [
    "**Task: Print the classification report**"
   ]
  },
  {
   "cell_type": "code",
   "execution_count": 128,
   "id": "d377ef92",
   "metadata": {},
   "outputs": [
    {
     "name": "stdout",
     "output_type": "stream",
     "text": [
      "              precision    recall  f1-score   support\n",
      "\n",
      "           0       0.79      0.82      0.81        68\n",
      "           1       0.08      0.06      0.07        16\n",
      "\n",
      "    accuracy                           0.68        84\n",
      "   macro avg       0.43      0.44      0.44        84\n",
      "weighted avg       0.65      0.68      0.67        84\n",
      "\n"
     ]
    }
   ],
   "source": [
    "print(classification_report(y_test, rand_model.predict(X_test)))"
   ]
  },
  {
   "cell_type": "markdown",
   "id": "4af419ea",
   "metadata": {},
   "source": [
    "### Gradient Boosting Classifier"
   ]
  },
  {
   "cell_type": "markdown",
   "id": "94534d57",
   "metadata": {},
   "source": [
    "**Task: Instantiate and train three GradientBoostingClassifier models**"
   ]
  },
  {
   "cell_type": "code",
   "execution_count": 129,
   "id": "63c91864",
   "metadata": {},
   "outputs": [
    {
     "data": {
      "text/html": [
       "<style>#sk-container-id-8 {color: black;background-color: white;}#sk-container-id-8 pre{padding: 0;}#sk-container-id-8 div.sk-toggleable {background-color: white;}#sk-container-id-8 label.sk-toggleable__label {cursor: pointer;display: block;width: 100%;margin-bottom: 0;padding: 0.3em;box-sizing: border-box;text-align: center;}#sk-container-id-8 label.sk-toggleable__label-arrow:before {content: \"▸\";float: left;margin-right: 0.25em;color: #696969;}#sk-container-id-8 label.sk-toggleable__label-arrow:hover:before {color: black;}#sk-container-id-8 div.sk-estimator:hover label.sk-toggleable__label-arrow:before {color: black;}#sk-container-id-8 div.sk-toggleable__content {max-height: 0;max-width: 0;overflow: hidden;text-align: left;background-color: #f0f8ff;}#sk-container-id-8 div.sk-toggleable__content pre {margin: 0.2em;color: black;border-radius: 0.25em;background-color: #f0f8ff;}#sk-container-id-8 input.sk-toggleable__control:checked~div.sk-toggleable__content {max-height: 200px;max-width: 100%;overflow: auto;}#sk-container-id-8 input.sk-toggleable__control:checked~label.sk-toggleable__label-arrow:before {content: \"▾\";}#sk-container-id-8 div.sk-estimator input.sk-toggleable__control:checked~label.sk-toggleable__label {background-color: #d4ebff;}#sk-container-id-8 div.sk-label input.sk-toggleable__control:checked~label.sk-toggleable__label {background-color: #d4ebff;}#sk-container-id-8 input.sk-hidden--visually {border: 0;clip: rect(1px 1px 1px 1px);clip: rect(1px, 1px, 1px, 1px);height: 1px;margin: -1px;overflow: hidden;padding: 0;position: absolute;width: 1px;}#sk-container-id-8 div.sk-estimator {font-family: monospace;background-color: #f0f8ff;border: 1px dotted black;border-radius: 0.25em;box-sizing: border-box;margin-bottom: 0.5em;}#sk-container-id-8 div.sk-estimator:hover {background-color: #d4ebff;}#sk-container-id-8 div.sk-parallel-item::after {content: \"\";width: 100%;border-bottom: 1px solid gray;flex-grow: 1;}#sk-container-id-8 div.sk-label:hover label.sk-toggleable__label {background-color: #d4ebff;}#sk-container-id-8 div.sk-serial::before {content: \"\";position: absolute;border-left: 1px solid gray;box-sizing: border-box;top: 0;bottom: 0;left: 50%;z-index: 0;}#sk-container-id-8 div.sk-serial {display: flex;flex-direction: column;align-items: center;background-color: white;padding-right: 0.2em;padding-left: 0.2em;position: relative;}#sk-container-id-8 div.sk-item {position: relative;z-index: 1;}#sk-container-id-8 div.sk-parallel {display: flex;align-items: stretch;justify-content: center;background-color: white;position: relative;}#sk-container-id-8 div.sk-item::before, #sk-container-id-8 div.sk-parallel-item::before {content: \"\";position: absolute;border-left: 1px solid gray;box-sizing: border-box;top: 0;bottom: 0;left: 50%;z-index: -1;}#sk-container-id-8 div.sk-parallel-item {display: flex;flex-direction: column;z-index: 1;position: relative;background-color: white;}#sk-container-id-8 div.sk-parallel-item:first-child::after {align-self: flex-end;width: 50%;}#sk-container-id-8 div.sk-parallel-item:last-child::after {align-self: flex-start;width: 50%;}#sk-container-id-8 div.sk-parallel-item:only-child::after {width: 0;}#sk-container-id-8 div.sk-dashed-wrapped {border: 1px dashed gray;margin: 0 0.4em 0.5em 0.4em;box-sizing: border-box;padding-bottom: 0.4em;background-color: white;}#sk-container-id-8 div.sk-label label {font-family: monospace;font-weight: bold;display: inline-block;line-height: 1.2em;}#sk-container-id-8 div.sk-label-container {text-align: center;}#sk-container-id-8 div.sk-container {/* jupyter's `normalize.less` sets `[hidden] { display: none; }` but bootstrap.min.css set `[hidden] { display: none !important; }` so we also need the `!important` here to be able to override the default hidden behavior on the sphinx rendered scikit-learn.org. See: https://github.com/scikit-learn/scikit-learn/issues/21755 */display: inline-block !important;position: relative;}#sk-container-id-8 div.sk-text-repr-fallback {display: none;}</style><div id=\"sk-container-id-8\" class=\"sk-top-container\"><div class=\"sk-text-repr-fallback\"><pre>GradientBoostingClassifier()</pre><b>In a Jupyter environment, please rerun this cell to show the HTML representation or trust the notebook. <br />On GitHub, the HTML representation is unable to render, please try loading this page with nbviewer.org.</b></div><div class=\"sk-container\" hidden><div class=\"sk-item\"><div class=\"sk-estimator sk-toggleable\"><input class=\"sk-toggleable__control sk-hidden--visually\" id=\"sk-estimator-id-14\" type=\"checkbox\" checked><label for=\"sk-estimator-id-14\" class=\"sk-toggleable__label sk-toggleable__label-arrow\">GradientBoostingClassifier</label><div class=\"sk-toggleable__content\"><pre>GradientBoostingClassifier()</pre></div></div></div></div></div>"
      ],
      "text/plain": [
       "GradientBoostingClassifier()"
      ]
     },
     "execution_count": 129,
     "metadata": {},
     "output_type": "execute_result"
    }
   ],
   "source": [
    "model_over = GradientBoostingClassifier()\n",
    "model_over.fit(X_train_over, y_train_over)\n",
    "model_under = GradientBoostingClassifier()\n",
    "model_under.fit(X_train_under, y_train_under)\n",
    "model = GradientBoostingClassifier()\n",
    "model.fit(X_train, y_train)\n"
   ]
  },
  {
   "cell_type": "markdown",
   "id": "aa3d853d",
   "metadata": {},
   "source": [
    "**Task: Calculate the accurracy scores of the three models trained above**"
   ]
  },
  {
   "cell_type": "code",
   "execution_count": 130,
   "id": "0cd7fcc0",
   "metadata": {},
   "outputs": [
    {
     "name": "stdout",
     "output_type": "stream",
     "text": [
      "Train score: 0.84\n",
      "Test score: 0.58\n",
      "\n",
      "Train score: 0.73\n",
      "Test score: 0.49\n",
      "\n",
      "Train score: 0.86\n",
      "Test score: 0.69\n",
      "\n"
     ]
    }
   ],
   "source": [
    "for m in [model_over, model_under, model]:\n",
    "    print(f'Train score: {round(m.score(X_train, y_train), 2)}')\n",
    "    print(f'Test score: {round(m.score(X_test, y_test), 2)}\\n')"
   ]
  },
  {
   "cell_type": "markdown",
   "id": "266c0dc5",
   "metadata": {},
   "source": [
    "**Task: Instantiate a GradientBoostingClassifier model**"
   ]
  },
  {
   "cell_type": "code",
   "execution_count": 131,
   "id": "c5ca7f4a",
   "metadata": {},
   "outputs": [],
   "source": [
    "grad_clf = GradientBoostingClassifier()"
   ]
  },
  {
   "cell_type": "markdown",
   "id": "b77bc13f",
   "metadata": {},
   "source": [
    "**Task: Tune the hyperparameters using a GridSearchCV**"
   ]
  },
  {
   "cell_type": "code",
   "execution_count": 132,
   "id": "2d46adbc",
   "metadata": {},
   "outputs": [
    {
     "name": "stdout",
     "output_type": "stream",
     "text": [
      "Fitting 5 folds for each of 20 candidates, totalling 100 fits\n"
     ]
    },
    {
     "data": {
      "text/html": [
       "<style>#sk-container-id-9 {color: black;background-color: white;}#sk-container-id-9 pre{padding: 0;}#sk-container-id-9 div.sk-toggleable {background-color: white;}#sk-container-id-9 label.sk-toggleable__label {cursor: pointer;display: block;width: 100%;margin-bottom: 0;padding: 0.3em;box-sizing: border-box;text-align: center;}#sk-container-id-9 label.sk-toggleable__label-arrow:before {content: \"▸\";float: left;margin-right: 0.25em;color: #696969;}#sk-container-id-9 label.sk-toggleable__label-arrow:hover:before {color: black;}#sk-container-id-9 div.sk-estimator:hover label.sk-toggleable__label-arrow:before {color: black;}#sk-container-id-9 div.sk-toggleable__content {max-height: 0;max-width: 0;overflow: hidden;text-align: left;background-color: #f0f8ff;}#sk-container-id-9 div.sk-toggleable__content pre {margin: 0.2em;color: black;border-radius: 0.25em;background-color: #f0f8ff;}#sk-container-id-9 input.sk-toggleable__control:checked~div.sk-toggleable__content {max-height: 200px;max-width: 100%;overflow: auto;}#sk-container-id-9 input.sk-toggleable__control:checked~label.sk-toggleable__label-arrow:before {content: \"▾\";}#sk-container-id-9 div.sk-estimator input.sk-toggleable__control:checked~label.sk-toggleable__label {background-color: #d4ebff;}#sk-container-id-9 div.sk-label input.sk-toggleable__control:checked~label.sk-toggleable__label {background-color: #d4ebff;}#sk-container-id-9 input.sk-hidden--visually {border: 0;clip: rect(1px 1px 1px 1px);clip: rect(1px, 1px, 1px, 1px);height: 1px;margin: -1px;overflow: hidden;padding: 0;position: absolute;width: 1px;}#sk-container-id-9 div.sk-estimator {font-family: monospace;background-color: #f0f8ff;border: 1px dotted black;border-radius: 0.25em;box-sizing: border-box;margin-bottom: 0.5em;}#sk-container-id-9 div.sk-estimator:hover {background-color: #d4ebff;}#sk-container-id-9 div.sk-parallel-item::after {content: \"\";width: 100%;border-bottom: 1px solid gray;flex-grow: 1;}#sk-container-id-9 div.sk-label:hover label.sk-toggleable__label {background-color: #d4ebff;}#sk-container-id-9 div.sk-serial::before {content: \"\";position: absolute;border-left: 1px solid gray;box-sizing: border-box;top: 0;bottom: 0;left: 50%;z-index: 0;}#sk-container-id-9 div.sk-serial {display: flex;flex-direction: column;align-items: center;background-color: white;padding-right: 0.2em;padding-left: 0.2em;position: relative;}#sk-container-id-9 div.sk-item {position: relative;z-index: 1;}#sk-container-id-9 div.sk-parallel {display: flex;align-items: stretch;justify-content: center;background-color: white;position: relative;}#sk-container-id-9 div.sk-item::before, #sk-container-id-9 div.sk-parallel-item::before {content: \"\";position: absolute;border-left: 1px solid gray;box-sizing: border-box;top: 0;bottom: 0;left: 50%;z-index: -1;}#sk-container-id-9 div.sk-parallel-item {display: flex;flex-direction: column;z-index: 1;position: relative;background-color: white;}#sk-container-id-9 div.sk-parallel-item:first-child::after {align-self: flex-end;width: 50%;}#sk-container-id-9 div.sk-parallel-item:last-child::after {align-self: flex-start;width: 50%;}#sk-container-id-9 div.sk-parallel-item:only-child::after {width: 0;}#sk-container-id-9 div.sk-dashed-wrapped {border: 1px dashed gray;margin: 0 0.4em 0.5em 0.4em;box-sizing: border-box;padding-bottom: 0.4em;background-color: white;}#sk-container-id-9 div.sk-label label {font-family: monospace;font-weight: bold;display: inline-block;line-height: 1.2em;}#sk-container-id-9 div.sk-label-container {text-align: center;}#sk-container-id-9 div.sk-container {/* jupyter's `normalize.less` sets `[hidden] { display: none; }` but bootstrap.min.css set `[hidden] { display: none !important; }` so we also need the `!important` here to be able to override the default hidden behavior on the sphinx rendered scikit-learn.org. See: https://github.com/scikit-learn/scikit-learn/issues/21755 */display: inline-block !important;position: relative;}#sk-container-id-9 div.sk-text-repr-fallback {display: none;}</style><div id=\"sk-container-id-9\" class=\"sk-top-container\"><div class=\"sk-text-repr-fallback\"><pre>GridSearchCV(cv=5, estimator=GradientBoostingClassifier(), n_jobs=-1,\n",
       "             param_grid={&#x27;max_depth&#x27;: range(10, 60, 10),\n",
       "                         &#x27;n_estimators&#x27;: range(25, 101, 25)},\n",
       "             verbose=1)</pre><b>In a Jupyter environment, please rerun this cell to show the HTML representation or trust the notebook. <br />On GitHub, the HTML representation is unable to render, please try loading this page with nbviewer.org.</b></div><div class=\"sk-container\" hidden><div class=\"sk-item sk-dashed-wrapped\"><div class=\"sk-label-container\"><div class=\"sk-label sk-toggleable\"><input class=\"sk-toggleable__control sk-hidden--visually\" id=\"sk-estimator-id-15\" type=\"checkbox\" ><label for=\"sk-estimator-id-15\" class=\"sk-toggleable__label sk-toggleable__label-arrow\">GridSearchCV</label><div class=\"sk-toggleable__content\"><pre>GridSearchCV(cv=5, estimator=GradientBoostingClassifier(), n_jobs=-1,\n",
       "             param_grid={&#x27;max_depth&#x27;: range(10, 60, 10),\n",
       "                         &#x27;n_estimators&#x27;: range(25, 101, 25)},\n",
       "             verbose=1)</pre></div></div></div><div class=\"sk-parallel\"><div class=\"sk-parallel-item\"><div class=\"sk-item\"><div class=\"sk-label-container\"><div class=\"sk-label sk-toggleable\"><input class=\"sk-toggleable__control sk-hidden--visually\" id=\"sk-estimator-id-16\" type=\"checkbox\" ><label for=\"sk-estimator-id-16\" class=\"sk-toggleable__label sk-toggleable__label-arrow\">estimator: GradientBoostingClassifier</label><div class=\"sk-toggleable__content\"><pre>GradientBoostingClassifier()</pre></div></div></div><div class=\"sk-serial\"><div class=\"sk-item\"><div class=\"sk-estimator sk-toggleable\"><input class=\"sk-toggleable__control sk-hidden--visually\" id=\"sk-estimator-id-17\" type=\"checkbox\" ><label for=\"sk-estimator-id-17\" class=\"sk-toggleable__label sk-toggleable__label-arrow\">GradientBoostingClassifier</label><div class=\"sk-toggleable__content\"><pre>GradientBoostingClassifier()</pre></div></div></div></div></div></div></div></div></div></div>"
      ],
      "text/plain": [
       "GridSearchCV(cv=5, estimator=GradientBoostingClassifier(), n_jobs=-1,\n",
       "             param_grid={'max_depth': range(10, 60, 10),\n",
       "                         'n_estimators': range(25, 101, 25)},\n",
       "             verbose=1)"
      ]
     },
     "execution_count": 132,
     "metadata": {},
     "output_type": "execute_result"
    }
   ],
   "source": [
    "grad_model = GridSearchCV(grad_clf, param_grid = params, n_jobs = -1, cv = 5, verbose = 1)\n",
    "grad_model.fit(X_train, y_train)"
   ]
  },
  {
   "cell_type": "code",
   "execution_count": 133,
   "id": "0486bfda",
   "metadata": {},
   "outputs": [
    {
     "data": {
      "image/png": "[encoded data removed]",
      "text/plain": [
       "<Figure size 640x480 with 2 Axes>"
      ]
     },
     "metadata": {},
     "output_type": "display_data"
    }
   ],
   "source": [
    "ConfusionMatrixDisplay.from_estimator(grad_model, X_test, y_test);"
   ]
  },
  {
   "cell_type": "code",
   "execution_count": 134,
   "id": "1856f2a4",
   "metadata": {},
   "outputs": [
    {
     "name": "stdout",
     "output_type": "stream",
     "text": [
      "              precision    recall  f1-score   support\n",
      "\n",
      "           0       0.78      0.78      0.78        68\n",
      "           1       0.06      0.06      0.06        16\n",
      "\n",
      "    accuracy                           0.64        84\n",
      "   macro avg       0.42      0.42      0.42        84\n",
      "weighted avg       0.64      0.64      0.64        84\n",
      "\n"
     ]
    }
   ],
   "source": [
    "print(classification_report(y_test, grad_model.predict(X_test)))"
   ]
  },
  {
   "cell_type": "markdown",
   "id": "b47ca07b",
   "metadata": {},
   "source": [
    "**Task: Generate the cross validation results of the best model**"
   ]
  },
  {
   "cell_type": "code",
   "execution_count": 135,
   "id": "f6cf0185",
   "metadata": {},
   "outputs": [
    {
     "data": {
      "text/html": [
       "<div>\n",
       "<style scoped>\n",
       "    .dataframe tbody tr th:only-of-type {\n",
       "        vertical-align: middle;\n",
       "    }\n",
       "\n",
       "    .dataframe tbody tr th {\n",
       "        vertical-align: top;\n",
       "    }\n",
       "\n",
       "    .dataframe thead th {\n",
       "        text-align: right;\n",
       "    }\n",
       "</style>\n",
       "<table border=\"1\" class=\"dataframe\">\n",
       "  <thead>\n",
       "    <tr style=\"text-align: right;\">\n",
       "      <th></th>\n",
       "      <th>mean_fit_time</th>\n",
       "      <th>std_fit_time</th>\n",
       "      <th>mean_score_time</th>\n",
       "      <th>std_score_time</th>\n",
       "      <th>param_max_depth</th>\n",
       "      <th>param_n_estimators</th>\n",
       "      <th>params</th>\n",
       "      <th>split0_test_score</th>\n",
       "      <th>split1_test_score</th>\n",
       "      <th>split2_test_score</th>\n",
       "      <th>split3_test_score</th>\n",
       "      <th>split4_test_score</th>\n",
       "      <th>mean_test_score</th>\n",
       "      <th>std_test_score</th>\n",
       "      <th>rank_test_score</th>\n",
       "    </tr>\n",
       "  </thead>\n",
       "  <tbody>\n",
       "    <tr>\n",
       "      <th>0</th>\n",
       "      <td>0.071848</td>\n",
       "      <td>0.007661</td>\n",
       "      <td>0.009373</td>\n",
       "      <td>0.007653</td>\n",
       "      <td>10</td>\n",
       "      <td>25</td>\n",
       "      <td>{'max_depth': 10, 'n_estimators': 25}</td>\n",
       "      <td>0.701493</td>\n",
       "      <td>0.746269</td>\n",
       "      <td>0.791045</td>\n",
       "      <td>0.701493</td>\n",
       "      <td>0.666667</td>\n",
       "      <td>0.721393</td>\n",
       "      <td>0.043028</td>\n",
       "      <td>19</td>\n",
       "    </tr>\n",
       "    <tr>\n",
       "      <th>1</th>\n",
       "      <td>0.149357</td>\n",
       "      <td>0.007470</td>\n",
       "      <td>0.009373</td>\n",
       "      <td>0.007653</td>\n",
       "      <td>10</td>\n",
       "      <td>50</td>\n",
       "      <td>{'max_depth': 10, 'n_estimators': 50}</td>\n",
       "      <td>0.716418</td>\n",
       "      <td>0.761194</td>\n",
       "      <td>0.776119</td>\n",
       "      <td>0.686567</td>\n",
       "      <td>0.681818</td>\n",
       "      <td>0.724423</td>\n",
       "      <td>0.038307</td>\n",
       "      <td>6</td>\n",
       "    </tr>\n",
       "    <tr>\n",
       "      <th>2</th>\n",
       "      <td>0.209326</td>\n",
       "      <td>0.007653</td>\n",
       "      <td>0.012497</td>\n",
       "      <td>0.006249</td>\n",
       "      <td>10</td>\n",
       "      <td>75</td>\n",
       "      <td>{'max_depth': 10, 'n_estimators': 75}</td>\n",
       "      <td>0.716418</td>\n",
       "      <td>0.761194</td>\n",
       "      <td>0.791045</td>\n",
       "      <td>0.716418</td>\n",
       "      <td>0.651515</td>\n",
       "      <td>0.727318</td>\n",
       "      <td>0.047313</td>\n",
       "      <td>5</td>\n",
       "    </tr>\n",
       "    <tr>\n",
       "      <th>3</th>\n",
       "      <td>0.293828</td>\n",
       "      <td>0.013881</td>\n",
       "      <td>0.015445</td>\n",
       "      <td>0.002538</td>\n",
       "      <td>10</td>\n",
       "      <td>100</td>\n",
       "      <td>{'max_depth': 10, 'n_estimators': 100}</td>\n",
       "      <td>0.716418</td>\n",
       "      <td>0.761194</td>\n",
       "      <td>0.776119</td>\n",
       "      <td>0.701493</td>\n",
       "      <td>0.636364</td>\n",
       "      <td>0.718318</td>\n",
       "      <td>0.049361</td>\n",
       "      <td>20</td>\n",
       "    </tr>\n",
       "    <tr>\n",
       "      <th>4</th>\n",
       "      <td>0.076519</td>\n",
       "      <td>0.007611</td>\n",
       "      <td>0.007455</td>\n",
       "      <td>0.006784</td>\n",
       "      <td>20</td>\n",
       "      <td>25</td>\n",
       "      <td>{'max_depth': 20, 'n_estimators': 25}</td>\n",
       "      <td>0.686567</td>\n",
       "      <td>0.746269</td>\n",
       "      <td>0.791045</td>\n",
       "      <td>0.731343</td>\n",
       "      <td>0.666667</td>\n",
       "      <td>0.724378</td>\n",
       "      <td>0.044119</td>\n",
       "      <td>7</td>\n",
       "    </tr>\n",
       "  </tbody>\n",
       "</table>\n",
       "</div>"
      ],
      "text/plain": [
       "   mean_fit_time  std_fit_time  mean_score_time  std_score_time  \\\n",
       "0       0.071848      0.007661         0.009373        0.007653   \n",
       "1       0.149357      0.007470         0.009373        0.007653   \n",
       "2       0.209326      0.007653         0.012497        0.006249   \n",
       "3       0.293828      0.013881         0.015445        0.002538   \n",
       "4       0.076519      0.007611         0.007455        0.006784   \n",
       "\n",
       "  param_max_depth param_n_estimators                                  params  \\\n",
       "0              10                 25   {'max_depth': 10, 'n_estimators': 25}   \n",
       "1              10                 50   {'max_depth': 10, 'n_estimators': 50}   \n",
       "2              10                 75   {'max_depth': 10, 'n_estimators': 75}   \n",
       "3              10                100  {'max_depth': 10, 'n_estimators': 100}   \n",
       "4              20                 25   {'max_depth': 20, 'n_estimators': 25}   \n",
       "\n",
       "   split0_test_score  split1_test_score  split2_test_score  split3_test_score  \\\n",
       "0           0.701493           0.746269           0.791045           0.701493   \n",
       "1           0.716418           0.761194           0.776119           0.686567   \n",
       "2           0.716418           0.761194           0.791045           0.716418   \n",
       "3           0.716418           0.761194           0.776119           0.701493   \n",
       "4           0.686567           0.746269           0.791045           0.731343   \n",
       "\n",
       "   split4_test_score  mean_test_score  std_test_score  rank_test_score  \n",
       "0           0.666667         0.721393        0.043028               19  \n",
       "1           0.681818         0.724423        0.038307                6  \n",
       "2           0.651515         0.727318        0.047313                5  \n",
       "3           0.636364         0.718318        0.049361               20  \n",
       "4           0.666667         0.724378        0.044119                7  "
      ]
     },
     "execution_count": 135,
     "metadata": {},
     "output_type": "execute_result"
    }
   ],
   "source": [
    "cv_result = pd.DataFrame(rand_model.cv_results_)\n",
    "cv_result.head()"
   ]
  },
  {
   "cell_type": "markdown",
   "id": "5ff25061",
   "metadata": {},
   "source": [
    "**Task: Print the best estimator of the  model**"
   ]
  },
  {
   "cell_type": "code",
   "execution_count": 136,
   "id": "6d458cfa",
   "metadata": {},
   "outputs": [
    {
     "data": {
      "text/html": [
       "<style>#sk-container-id-10 {color: black;background-color: white;}#sk-container-id-10 pre{padding: 0;}#sk-container-id-10 div.sk-toggleable {background-color: white;}#sk-container-id-10 label.sk-toggleable__label {cursor: pointer;display: block;width: 100%;margin-bottom: 0;padding: 0.3em;box-sizing: border-box;text-align: center;}#sk-container-id-10 label.sk-toggleable__label-arrow:before {content: \"▸\";float: left;margin-right: 0.25em;color: #696969;}#sk-container-id-10 label.sk-toggleable__label-arrow:hover:before {color: black;}#sk-container-id-10 div.sk-estimator:hover label.sk-toggleable__label-arrow:before {color: black;}#sk-container-id-10 div.sk-toggleable__content {max-height: 0;max-width: 0;overflow: hidden;text-align: left;background-color: #f0f8ff;}#sk-container-id-10 div.sk-toggleable__content pre {margin: 0.2em;color: black;border-radius: 0.25em;background-color: #f0f8ff;}#sk-container-id-10 input.sk-toggleable__control:checked~div.sk-toggleable__content {max-height: 200px;max-width: 100%;overflow: auto;}#sk-container-id-10 input.sk-toggleable__control:checked~label.sk-toggleable__label-arrow:before {content: \"▾\";}#sk-container-id-10 div.sk-estimator input.sk-toggleable__control:checked~label.sk-toggleable__label {background-color: #d4ebff;}#sk-container-id-10 div.sk-label input.sk-toggleable__control:checked~label.sk-toggleable__label {background-color: #d4ebff;}#sk-container-id-10 input.sk-hidden--visually {border: 0;clip: rect(1px 1px 1px 1px);clip: rect(1px, 1px, 1px, 1px);height: 1px;margin: -1px;overflow: hidden;padding: 0;position: absolute;width: 1px;}#sk-container-id-10 div.sk-estimator {font-family: monospace;background-color: #f0f8ff;border: 1px dotted black;border-radius: 0.25em;box-sizing: border-box;margin-bottom: 0.5em;}#sk-container-id-10 div.sk-estimator:hover {background-color: #d4ebff;}#sk-container-id-10 div.sk-parallel-item::after {content: \"\";width: 100%;border-bottom: 1px solid gray;flex-grow: 1;}#sk-container-id-10 div.sk-label:hover label.sk-toggleable__label {background-color: #d4ebff;}#sk-container-id-10 div.sk-serial::before {content: \"\";position: absolute;border-left: 1px solid gray;box-sizing: border-box;top: 0;bottom: 0;left: 50%;z-index: 0;}#sk-container-id-10 div.sk-serial {display: flex;flex-direction: column;align-items: center;background-color: white;padding-right: 0.2em;padding-left: 0.2em;position: relative;}#sk-container-id-10 div.sk-item {position: relative;z-index: 1;}#sk-container-id-10 div.sk-parallel {display: flex;align-items: stretch;justify-content: center;background-color: white;position: relative;}#sk-container-id-10 div.sk-item::before, #sk-container-id-10 div.sk-parallel-item::before {content: \"\";position: absolute;border-left: 1px solid gray;box-sizing: border-box;top: 0;bottom: 0;left: 50%;z-index: -1;}#sk-container-id-10 div.sk-parallel-item {display: flex;flex-direction: column;z-index: 1;position: relative;background-color: white;}#sk-container-id-10 div.sk-parallel-item:first-child::after {align-self: flex-end;width: 50%;}#sk-container-id-10 div.sk-parallel-item:last-child::after {align-self: flex-start;width: 50%;}#sk-container-id-10 div.sk-parallel-item:only-child::after {width: 0;}#sk-container-id-10 div.sk-dashed-wrapped {border: 1px dashed gray;margin: 0 0.4em 0.5em 0.4em;box-sizing: border-box;padding-bottom: 0.4em;background-color: white;}#sk-container-id-10 div.sk-label label {font-family: monospace;font-weight: bold;display: inline-block;line-height: 1.2em;}#sk-container-id-10 div.sk-label-container {text-align: center;}#sk-container-id-10 div.sk-container {/* jupyter's `normalize.less` sets `[hidden] { display: none; }` but bootstrap.min.css set `[hidden] { display: none !important; }` so we also need the `!important` here to be able to override the default hidden behavior on the sphinx rendered scikit-learn.org. See: https://github.com/scikit-learn/scikit-learn/issues/21755 */display: inline-block !important;position: relative;}#sk-container-id-10 div.sk-text-repr-fallback {display: none;}</style><div id=\"sk-container-id-10\" class=\"sk-top-container\"><div class=\"sk-text-repr-fallback\"><pre>RandomForestClassifier(max_depth=20, n_estimators=75, random_state=32)</pre><b>In a Jupyter environment, please rerun this cell to show the HTML representation or trust the notebook. <br />On GitHub, the HTML representation is unable to render, please try loading this page with nbviewer.org.</b></div><div class=\"sk-container\" hidden><div class=\"sk-item\"><div class=\"sk-estimator sk-toggleable\"><input class=\"sk-toggleable__control sk-hidden--visually\" id=\"sk-estimator-id-18\" type=\"checkbox\" checked><label for=\"sk-estimator-id-18\" class=\"sk-toggleable__label sk-toggleable__label-arrow\">RandomForestClassifier</label><div class=\"sk-toggleable__content\"><pre>RandomForestClassifier(max_depth=20, n_estimators=75, random_state=32)</pre></div></div></div></div></div>"
      ],
      "text/plain": [
       "RandomForestClassifier(max_depth=20, n_estimators=75, random_state=32)"
      ]
     },
     "execution_count": 136,
     "metadata": {},
     "output_type": "execute_result"
    }
   ],
   "source": [
    "rand_model.best_estimator_"
   ]
  },
  {
   "cell_type": "markdown",
   "id": "cad05e9a",
   "metadata": {},
   "source": [
    "**Task: Visualize the relationship between the mean fit time and the number of estimators**"
   ]
  },
  {
   "cell_type": "code",
   "execution_count": 137,
   "id": "4fb7809b",
   "metadata": {},
   "outputs": [
    {
     "data": {
      "image/png": "[encoded data removed]",
      "text/plain": [
       "<Figure size 640x480 with 1 Axes>"
      ]
     },
     "metadata": {},
     "output_type": "display_data"
    }
   ],
   "source": [
    "mask_estimator = cv_result[cv_result[\"param_max_depth\"] == 10]\n",
    "plt.plot(\n",
    "    mask_estimator[\"mean_fit_time\"],mask_estimator[\"param_n_estimators\"]\n",
    ");"
   ]
  },
  {
   "cell_type": "markdown",
   "id": "37cdfd65",
   "metadata": {},
   "source": [
    "**Task: Visualize the relationship between the mean fit time and the max depth**"
   ]
  },
  {
   "cell_type": "code",
   "execution_count": 138,
   "id": "1e68ad38",
   "metadata": {},
   "outputs": [
    {
     "data": {
      "image/png": "[encoded data removed]",
      "text/plain": [
       "<Figure size 640x480 with 1 Axes>"
      ]
     },
     "metadata": {},
     "output_type": "display_data"
    }
   ],
   "source": [
    "mask_estimator = cv_result[cv_result[\"param_n_estimators\"] == 75]\n",
    "plt.plot(\n",
    "    mask_estimator[\"mean_fit_time\"], mask_estimator[\"param_max_depth\"]\n",
    ");"
   ]
  },
  {
   "cell_type": "markdown",
   "id": "def0132d",
   "metadata": {},
   "source": [
    "## Communicate"
   ]
  },
  {
   "cell_type": "markdown",
   "id": "8abe1957",
   "metadata": {},
   "source": [
    "**Task: Create an interactive widget to generate predictions**"
   ]
  },
  {
   "cell_type": "code",
   "execution_count": 139,
   "id": "ee271e3b",
   "metadata": {},
   "outputs": [
    {
     "data": {
      "application/vnd.jupyter.widget-view+json": {
       "model_id": "f470ddf3295e4f3ca4feeaa5e4a1c77f",
       "version_major": 2,
       "version_minor": 0
      },
      "text/plain": [
       "interactive(children=(FloatSlider(value=0.5, description='threshold', max=1.0, step=0.05), Output()), _dom_cla…"
      ]
     },
     "metadata": {},
     "output_type": "display_data"
    }
   ],
   "source": [
    "def make_cnf_matrix(threshold):\n",
    "    y_pred = rand_model.predict_proba(X_test)[:,-1] > threshold\n",
    "    \n",
    "    conf_matrix = confusion_matrix(y_test,y_pred)\n",
    "    tp, fp, fn, tn = conf_matrix.ravel()    \n",
    "    print(f'{round(tn/(tp + tn) * 100, 2)}% will come back to donate')\n",
    "    print(f'Precision = {round(tp/(tp + fp),2)}')\n",
    "    print(f'Recall = {round(tp/(tp + fn),2)}')\n",
    "    \n",
    "    ConfusionMatrixDisplay.from_predictions(y_test, y_pred, colorbar = False)\n",
    "\n",
    "thresh_widget = widgets.FloatSlider(max = 1, min = 0, value = 0.5, step = 0.05)\n",
    "interact(make_cnf_matrix, threshold = thresh_widget);"
   ]
  },
  {
   "cell_type": "markdown",
   "id": "01ce553d",
   "metadata": {},
   "source": [
    "**Task: Generate the feature importances**"
   ]
  },
  {
   "cell_type": "code",
   "execution_count": 140,
   "id": "a1ea12f2",
   "metadata": {},
   "outputs": [
    {
     "data": {
      "text/plain": [
       "array([0.2832393 , 0.15615241, 0.56060829])"
      ]
     },
     "execution_count": 140,
     "metadata": {},
     "output_type": "execute_result"
    }
   ],
   "source": [
    "feat_imp = rand_model.best_estimator_.feature_importances_\n",
    "feat_imp"
   ]
  },
  {
   "cell_type": "markdown",
   "id": "8d78d1be",
   "metadata": {},
   "source": [
    "**Task: Create a series of feature importances (odd ratio)**"
   ]
  },
  {
   "cell_type": "code",
   "execution_count": 141,
   "id": "d7604d85",
   "metadata": {},
   "outputs": [
    {
     "data": {
      "text/plain": [
       "volume_donated                 0.156152\n",
       "months_since_last_donation     0.283239\n",
       "months_since_first_donation    0.560608\n",
       "dtype: float64"
      ]
     },
     "execution_count": 141,
     "metadata": {},
     "output_type": "execute_result"
    }
   ],
   "source": [
    "odds = pd.Series(feat_imp, index = X_train.columns).sort_values(ascending = True)\n",
    "odds"
   ]
  },
  {
   "cell_type": "markdown",
   "id": "4e7c613a",
   "metadata": {},
   "source": [
    "**Task: Visualize the feature importance (odd's ratio)**"
   ]
  },
  {
   "cell_type": "code",
   "execution_count": 142,
   "id": "168d233f",
   "metadata": {},
   "outputs": [
    {
     "data": {
      "image/png": "[encoded data removed]",
      "text/plain": [
       "<Figure size 640x480 with 1 Axes>"
      ]
     },
     "metadata": {},
     "output_type": "display_data"
    }
   ],
   "source": [
    "odds.plot(kind = \"barh\")\n",
    "plt.title(\"Feature Importances\");"
   ]
  },
  {
   "cell_type": "markdown",
   "id": "5d51a198",
   "metadata": {},
   "source": [
    "# Findings"
   ]
  },
  {
   "cell_type": "markdown",
   "id": "ab53762f",
   "metadata": {},
   "source": [
    "<font face = \"Verdana\">\n",
    "<p>\n",
    "In order of importance, the following factors would prevent donors from making another donation:<br>\n",
    "<ul>\n",
    "<li>Months since first donation</li>\n",
    "<li>Months since last donation</li>\n",
    "<li>Volume donated</li>\n",
    "</ul>\n",
    "\n",
    "Lastly, there is"
   ]
  }
 ],
 "metadata": {
  "kernelspec": {
   "display_name": "Python 3 (ipykernel)",
   "language": "python",
   "name": "python3"
  },
  "language_info": {
   "codemirror_mode": {
    "name": "ipython",
    "version": 3
   },
   "file_extension": ".py",
   "mimetype": "text/x-python",
   "name": "python",
   "nbconvert_exporter": "python",
   "pygments_lexer": "ipython3",
   "version": "3.11.0"
  }
 },
 "nbformat": 4,
 "nbformat_minor": 5
}
